{
  "nbformat": 4,
  "nbformat_minor": 0,
  "metadata": {
    "colab": {
      "name": "Final Project DTI.ipynb",
      "provenance": [],
      "collapsed_sections": [],
      "include_colab_link": true
    },
    "kernelspec": {
      "display_name": "Python 3",
      "name": "python3"
    },
    "accelerator": "GPU"
  },
  "cells": [
    {
      "cell_type": "markdown",
      "metadata": {
        "id": "view-in-github",
        "colab_type": "text"
      },
      "source": [
        "<a href=\"https://colab.research.google.com/github/PutriAW/Predictions-of-Public-Response-to-Indonesian-Government-Policies/blob/main/Final_Project_DTI.ipynb\" target=\"_parent\"><img src=\"https://colab.research.google.com/assets/colab-badge.svg\" alt=\"Open In Colab\"/></a>"
      ]
    },
    {
      "cell_type": "markdown",
      "metadata": {
        "id": "L00PS-wR2_31"
      },
      "source": [
        "## **Predictions of Public Response to Indonesian Government Policies**\r\n",
        "Created By Group 6 Data Scientist 01 (DS01)\r\n",
        "- Ghinaa Zain Nabiilah \r\n",
        "- Meidy Tataluckta \r\n",
        "- Putri Apriyanti Windya \r\n",
        "- Rizky Nur Alfian\r\n"
      ]
    },
    {
      "cell_type": "markdown",
      "metadata": {
        "id": "mm865haO3byA"
      },
      "source": [
        "# **Dataset**\r\n",
        "\r\n",
        "---\r\n",
        " Dataset for this classification obtained from twitter and we do clean the data. data can be accessed using this following link : https://raw.githubusercontent.com/PutriAW/Predictions-of-Public-Response-to-Indonesian-Government-Policies/main/Dataset/raw%20dataset.csv\r\n",
        " "
      ]
    },
    {
      "cell_type": "markdown",
      "metadata": {
        "id": "rJF-5BbR3n3s"
      },
      "source": [
        "# **Description**\r\n",
        "\r\n",
        "---\r\n",
        "Background :\r\n",
        "- 56% of Indonesians use Twitter\r\n",
        "- Can be a means of conveying opinions\r\n",
        "- Potential as a means of spreading hate speech that contains incitement to reject government policies through demonstrations that have the potential to harm many parties.\r\n",
        "\r\n",
        "Goals / solutions:\r\n",
        "\r\n",
        "It is necessary to develop a system that's able to build sentiment analysis of public opinion related to government policies that can be used by the government to considering new policies. In the end it can reduce possibility of demonstrations that have potential to harm many parties."
      ]
    },
    {
      "cell_type": "markdown",
      "metadata": {
        "id": "0mq3h1K93ybk"
      },
      "source": [
        "# **Problem to Solve**\r\n",
        "\r\n",
        "---\r\n",
        "\r\n",
        "Do sentiment Analysis to know whether a twitter tweet contain agree or disagree opinion to indonesian government policies"
      ]
    },
    {
      "cell_type": "markdown",
      "metadata": {
        "id": "Bmctsj9-3_7D"
      },
      "source": [
        "# **Data Preparation**"
      ]
    },
    {
      "cell_type": "markdown",
      "metadata": {
        "id": "31D2eRDd4EW3"
      },
      "source": [
        "## **Data Exploration**"
      ]
    },
    {
      "cell_type": "markdown",
      "metadata": {
        "id": "Uwq2oBuM4KK2"
      },
      "source": [
        "**Import All Libraries that Needed for Data Preparation**"
      ]
    },
    {
      "cell_type": "code",
      "metadata": {
        "colab": {
          "base_uri": "https://localhost:8080/"
        },
        "id": "mvZLp9Ag4VAP",
        "outputId": "105741ee-8b10-4570-94b5-a4a5c6c644d5"
      },
      "source": [
        "# install library for indonesian language stemming\r\n",
        "!pip install Sastrawi"
      ],
      "execution_count": null,
      "outputs": [
        {
          "output_type": "stream",
          "text": [
            "Collecting Sastrawi\n",
            "\u001b[?25l  Downloading https://files.pythonhosted.org/packages/6f/4b/bab676953da3103003730b8fcdfadbdd20f333d4add10af949dd5c51e6ed/Sastrawi-1.0.1-py2.py3-none-any.whl (209kB)\n",
            "\r\u001b[K     |█▋                              | 10kB 23.7MB/s eta 0:00:01\r\u001b[K     |███▏                            | 20kB 11.3MB/s eta 0:00:01\r\u001b[K     |████▊                           | 30kB 9.1MB/s eta 0:00:01\r\u001b[K     |██████▎                         | 40kB 8.3MB/s eta 0:00:01\r\u001b[K     |███████▉                        | 51kB 5.2MB/s eta 0:00:01\r\u001b[K     |█████████▍                      | 61kB 5.8MB/s eta 0:00:01\r\u001b[K     |███████████                     | 71kB 6.2MB/s eta 0:00:01\r\u001b[K     |████████████▌                   | 81kB 6.5MB/s eta 0:00:01\r\u001b[K     |██████████████                  | 92kB 6.0MB/s eta 0:00:01\r\u001b[K     |███████████████▋                | 102kB 6.6MB/s eta 0:00:01\r\u001b[K     |█████████████████▏              | 112kB 6.6MB/s eta 0:00:01\r\u001b[K     |██████████████████▊             | 122kB 6.6MB/s eta 0:00:01\r\u001b[K     |████████████████████▎           | 133kB 6.6MB/s eta 0:00:01\r\u001b[K     |█████████████████████▉          | 143kB 6.6MB/s eta 0:00:01\r\u001b[K     |███████████████████████▍        | 153kB 6.6MB/s eta 0:00:01\r\u001b[K     |█████████████████████████       | 163kB 6.6MB/s eta 0:00:01\r\u001b[K     |██████████████████████████▋     | 174kB 6.6MB/s eta 0:00:01\r\u001b[K     |████████████████████████████▏   | 184kB 6.6MB/s eta 0:00:01\r\u001b[K     |█████████████████████████████▊  | 194kB 6.6MB/s eta 0:00:01\r\u001b[K     |███████████████████████████████▎| 204kB 6.6MB/s eta 0:00:01\r\u001b[K     |████████████████████████████████| 215kB 6.6MB/s \n",
            "\u001b[?25hInstalling collected packages: Sastrawi\n",
            "Successfully installed Sastrawi-1.0.1\n"
          ],
          "name": "stdout"
        }
      ]
    },
    {
      "cell_type": "code",
      "metadata": {
        "colab": {
          "base_uri": "https://localhost:8080/"
        },
        "id": "I_FjbjEJb11n",
        "outputId": "a91ec2e9-6946-4b4a-f598-ae80e4bdf872"
      },
      "source": [
        "# Import Library\r\n",
        "# text preprocessing\r\n",
        "import pandas as pd\r\n",
        "import numpy as np\r\n",
        "import csv\r\n",
        "import requests\r\n",
        "import io\r\n",
        "import nltk\r\n",
        "nltk.download('punkt')\r\n",
        "nltk.download('stopwords')\r\n",
        "import re # regular expression\r\n",
        "from Sastrawi.Stemmer.StemmerFactory import StemmerFactory # stemming indonesian language\r\n",
        "from Sastrawi.StopWordRemover.StopWordRemoverFactory import StopWordRemoverFactory\r\n",
        "from nltk.corpus import stopwords\r\n",
        "from imblearn.over_sampling import SMOTE\r\n",
        "from tqdm import tqdm\r\n",
        "\r\n",
        "# Visualization\r\n",
        "import seaborn as sns\r\n",
        "import matplotlib.pyplot as plt\r\n",
        "\r\n",
        "# Vectorization and splitting\r\n",
        "from sklearn.feature_extraction.text import CountVectorizer # to create Bag of words\r\n",
        "from sklearn.feature_extraction.text import TfidfVectorizer # tfid Vector \r\n",
        "from sklearn.metrics import confusion_matrix, classification_report, accuracy_score # confussion matrix\r\n",
        "from sklearn.preprocessing import LabelEncoder # to convert classes to number \r\n",
        "from sklearn.model_selection import train_test_split  # for splitting data \r\n",
        "from sklearn.metrics import accuracy_score # to calculate accuracy\r\n",
        "from mlxtend.plotting import plot_confusion_matrix"
      ],
      "execution_count": null,
      "outputs": [
        {
          "output_type": "stream",
          "text": [
            "[nltk_data] Downloading package punkt to /root/nltk_data...\n",
            "[nltk_data]   Unzipping tokenizers/punkt.zip.\n",
            "[nltk_data] Downloading package stopwords to /root/nltk_data...\n",
            "[nltk_data]   Unzipping corpora/stopwords.zip.\n"
          ],
          "name": "stdout"
        },
        {
          "output_type": "stream",
          "text": [
            "/usr/local/lib/python3.6/dist-packages/sklearn/externals/six.py:31: FutureWarning: The module is deprecated in version 0.21 and will be removed in version 0.23 since we've dropped support for Python 2.7. Please rely on the official version of six (https://pypi.org/project/six/).\n",
            "  \"(https://pypi.org/project/six/).\", FutureWarning)\n",
            "/usr/local/lib/python3.6/dist-packages/sklearn/utils/deprecation.py:144: FutureWarning: The sklearn.neighbors.base module is  deprecated in version 0.22 and will be removed in version 0.24. The corresponding classes / functions should instead be imported from sklearn.neighbors. Anything that cannot be imported from sklearn.neighbors is now part of the private API.\n",
            "  warnings.warn(message, FutureWarning)\n"
          ],
          "name": "stderr"
        }
      ]
    },
    {
      "cell_type": "code",
      "metadata": {
        "colab": {
          "base_uri": "https://localhost:8080/",
          "height": 402
        },
        "id": "ruHksToME5QO",
        "outputId": "77364d12-210b-4e68-d13d-e8b1dabe2a63"
      },
      "source": [
        "# Get data from Github and import into dataframe\r\n",
        "data = pd.read_csv(\"https://raw.githubusercontent.com/PutriAW/Predictions-of-Public-Response-to-Indonesian-Government-Policies/main/Dataset/raw%20dataset.csv\")\r\n",
        "data"
      ],
      "execution_count": null,
      "outputs": [
        {
          "output_type": "execute_result",
          "data": {
            "text/html": [
              "<div>\n",
              "<style scoped>\n",
              "    .dataframe tbody tr th:only-of-type {\n",
              "        vertical-align: middle;\n",
              "    }\n",
              "\n",
              "    .dataframe tbody tr th {\n",
              "        vertical-align: top;\n",
              "    }\n",
              "\n",
              "    .dataframe thead th {\n",
              "        text-align: right;\n",
              "    }\n",
              "</style>\n",
              "<table border=\"1\" class=\"dataframe\">\n",
              "  <thead>\n",
              "    <tr style=\"text-align: right;\">\n",
              "      <th></th>\n",
              "      <th>id_name</th>\n",
              "      <th>text</th>\n",
              "      <th>location</th>\n",
              "      <th>Label</th>\n",
              "    </tr>\n",
              "  </thead>\n",
              "  <tbody>\n",
              "    <tr>\n",
              "      <th>0</th>\n",
              "      <td>x1242096848401129473</td>\n",
              "      <td>disuntik vaksin emang sakit, tapi kalo ga mela...</td>\n",
              "      <td>Jakarta</td>\n",
              "      <td>Positif</td>\n",
              "    </tr>\n",
              "    <tr>\n",
              "      <th>1</th>\n",
              "      <td>x1217116132693311488</td>\n",
              "      <td>@MAIAsangJUARA Ciptain lagu saja kakak MAIA\\n\\...</td>\n",
              "      <td>Indonesia</td>\n",
              "      <td>Negatif</td>\n",
              "    </tr>\n",
              "    <tr>\n",
              "      <th>2</th>\n",
              "      <td>x79182387</td>\n",
              "      <td>@seeksixsuck SJW anti vaksin. Mereka lebih per...</td>\n",
              "      <td>DKI Jakarta, Indonesia</td>\n",
              "      <td>Negatif</td>\n",
              "    </tr>\n",
              "    <tr>\n",
              "      <th>3</th>\n",
              "      <td>x1095587722675159040</td>\n",
              "      <td>@LisaAmartatara3 Mak vaksin palsu Sibuk sendir...</td>\n",
              "      <td>NaN</td>\n",
              "      <td>Negatif</td>\n",
              "    </tr>\n",
              "    <tr>\n",
              "      <th>4</th>\n",
              "      <td>x62182882</td>\n",
              "      <td>@501Awani Ahli2 politik perlu diberi keutamaan...</td>\n",
              "      <td>Jakarta</td>\n",
              "      <td>Negatif</td>\n",
              "    </tr>\n",
              "    <tr>\n",
              "      <th>...</th>\n",
              "      <td>...</td>\n",
              "      <td>...</td>\n",
              "      <td>...</td>\n",
              "      <td>...</td>\n",
              "    </tr>\n",
              "    <tr>\n",
              "      <th>3083</th>\n",
              "      <td>x76037954</td>\n",
              "      <td>@memefess Tuhan tidak membuat mahluk jika tida...</td>\n",
              "      <td>Bandung, Indonesia</td>\n",
              "      <td>Positif</td>\n",
              "    </tr>\n",
              "    <tr>\n",
              "      <th>3084</th>\n",
              "      <td>x261157283</td>\n",
              "      <td>Itupun kalo efikasi dan efektivitasnya beneran...</td>\n",
              "      <td>Diwek, Indonesia</td>\n",
              "      <td>Positif</td>\n",
              "    </tr>\n",
              "    <tr>\n",
              "      <th>3085</th>\n",
              "      <td>x1158584108106125312</td>\n",
              "      <td>vaksin corona adalah VAKSIN TERCEPAT YANG DITE...</td>\n",
              "      <td>NaN</td>\n",
              "      <td>Positif</td>\n",
              "    </tr>\n",
              "    <tr>\n",
              "      <th>3086</th>\n",
              "      <td>x1158584108106125312</td>\n",
              "      <td>kata siapa ? KATA WHO, who sendiri bilang vaks...</td>\n",
              "      <td>NaN</td>\n",
              "      <td>Positif</td>\n",
              "    </tr>\n",
              "    <tr>\n",
              "      <th>3087</th>\n",
              "      <td>x220960575</td>\n",
              "      <td>Aku cinta vaksin</td>\n",
              "      <td>Tangerang - Jakarta Timur</td>\n",
              "      <td>Positif</td>\n",
              "    </tr>\n",
              "  </tbody>\n",
              "</table>\n",
              "<p>3088 rows × 4 columns</p>\n",
              "</div>"
            ],
            "text/plain": [
              "                   id_name  ...    Label\n",
              "0     x1242096848401129473  ...  Positif\n",
              "1     x1217116132693311488  ...  Negatif\n",
              "2                x79182387  ...  Negatif\n",
              "3     x1095587722675159040  ...  Negatif\n",
              "4                x62182882  ...  Negatif\n",
              "...                    ...  ...      ...\n",
              "3083             x76037954  ...  Positif\n",
              "3084            x261157283  ...  Positif\n",
              "3085  x1158584108106125312  ...  Positif\n",
              "3086  x1158584108106125312  ...  Positif\n",
              "3087            x220960575  ...  Positif\n",
              "\n",
              "[3088 rows x 4 columns]"
            ]
          },
          "metadata": {
            "tags": []
          },
          "execution_count": 3
        }
      ]
    },
    {
      "cell_type": "code",
      "metadata": {
        "colab": {
          "base_uri": "https://localhost:8080/",
          "height": 106
        },
        "id": "cyPKFV2B4tw8",
        "outputId": "f07440a2-ff8f-4175-aa0e-32cd6b2f4ce1"
      },
      "source": [
        "# Count Positif and Negatif label\r\n",
        "data.Label.value_counts().to_frame()"
      ],
      "execution_count": null,
      "outputs": [
        {
          "output_type": "execute_result",
          "data": {
            "text/html": [
              "<div>\n",
              "<style scoped>\n",
              "    .dataframe tbody tr th:only-of-type {\n",
              "        vertical-align: middle;\n",
              "    }\n",
              "\n",
              "    .dataframe tbody tr th {\n",
              "        vertical-align: top;\n",
              "    }\n",
              "\n",
              "    .dataframe thead th {\n",
              "        text-align: right;\n",
              "    }\n",
              "</style>\n",
              "<table border=\"1\" class=\"dataframe\">\n",
              "  <thead>\n",
              "    <tr style=\"text-align: right;\">\n",
              "      <th></th>\n",
              "      <th>Label</th>\n",
              "    </tr>\n",
              "  </thead>\n",
              "  <tbody>\n",
              "    <tr>\n",
              "      <th>Positif</th>\n",
              "      <td>1835</td>\n",
              "    </tr>\n",
              "    <tr>\n",
              "      <th>Negatif</th>\n",
              "      <td>1253</td>\n",
              "    </tr>\n",
              "  </tbody>\n",
              "</table>\n",
              "</div>"
            ],
            "text/plain": [
              "         Label\n",
              "Positif   1835\n",
              "Negatif   1253"
            ]
          },
          "metadata": {
            "tags": []
          },
          "execution_count": 4
        }
      ]
    },
    {
      "cell_type": "code",
      "metadata": {
        "colab": {
          "base_uri": "https://localhost:8080/"
        },
        "id": "FOjiKmoeGMGY",
        "outputId": "29733a15-d5ed-40f7-f5e0-f3a899eab51c"
      },
      "source": [
        "data.isnull().sum()"
      ],
      "execution_count": null,
      "outputs": [
        {
          "output_type": "execute_result",
          "data": {
            "text/plain": [
              "id_name        0\n",
              "text           0\n",
              "location    1198\n",
              "Label          0\n",
              "dtype: int64"
            ]
          },
          "metadata": {
            "tags": []
          },
          "execution_count": 5
        }
      ]
    },
    {
      "cell_type": "code",
      "metadata": {
        "id": "VFI6vyE_Jz98",
        "colab": {
          "base_uri": "https://localhost:8080/"
        },
        "outputId": "c359d0ee-6eca-4847-8b9b-3d015d1661cb"
      },
      "source": [
        "data = data.fillna(method=\"ffill\")\r\n",
        "data.isnull().sum()"
      ],
      "execution_count": null,
      "outputs": [
        {
          "output_type": "execute_result",
          "data": {
            "text/plain": [
              "id_name     0\n",
              "text        0\n",
              "location    0\n",
              "Label       0\n",
              "dtype: int64"
            ]
          },
          "metadata": {
            "tags": []
          },
          "execution_count": 6
        }
      ]
    },
    {
      "cell_type": "code",
      "metadata": {
        "colab": {
          "base_uri": "https://localhost:8080/",
          "height": 195
        },
        "id": "tREfBye_ZY3x",
        "outputId": "3889be3b-0cd3-4311-e3b8-7fc337eb2eff"
      },
      "source": [
        "data.head()"
      ],
      "execution_count": null,
      "outputs": [
        {
          "output_type": "execute_result",
          "data": {
            "text/html": [
              "<div>\n",
              "<style scoped>\n",
              "    .dataframe tbody tr th:only-of-type {\n",
              "        vertical-align: middle;\n",
              "    }\n",
              "\n",
              "    .dataframe tbody tr th {\n",
              "        vertical-align: top;\n",
              "    }\n",
              "\n",
              "    .dataframe thead th {\n",
              "        text-align: right;\n",
              "    }\n",
              "</style>\n",
              "<table border=\"1\" class=\"dataframe\">\n",
              "  <thead>\n",
              "    <tr style=\"text-align: right;\">\n",
              "      <th></th>\n",
              "      <th>id_name</th>\n",
              "      <th>text</th>\n",
              "      <th>location</th>\n",
              "      <th>Label</th>\n",
              "    </tr>\n",
              "  </thead>\n",
              "  <tbody>\n",
              "    <tr>\n",
              "      <th>0</th>\n",
              "      <td>x1242096848401129473</td>\n",
              "      <td>disuntik vaksin emang sakit, tapi kalo ga mela...</td>\n",
              "      <td>Jakarta</td>\n",
              "      <td>Positif</td>\n",
              "    </tr>\n",
              "    <tr>\n",
              "      <th>1</th>\n",
              "      <td>x1217116132693311488</td>\n",
              "      <td>@MAIAsangJUARA Ciptain lagu saja kakak MAIA\\n\\...</td>\n",
              "      <td>Indonesia</td>\n",
              "      <td>Negatif</td>\n",
              "    </tr>\n",
              "    <tr>\n",
              "      <th>2</th>\n",
              "      <td>x79182387</td>\n",
              "      <td>@seeksixsuck SJW anti vaksin. Mereka lebih per...</td>\n",
              "      <td>DKI Jakarta, Indonesia</td>\n",
              "      <td>Negatif</td>\n",
              "    </tr>\n",
              "    <tr>\n",
              "      <th>3</th>\n",
              "      <td>x1095587722675159040</td>\n",
              "      <td>@LisaAmartatara3 Mak vaksin palsu Sibuk sendir...</td>\n",
              "      <td>DKI Jakarta, Indonesia</td>\n",
              "      <td>Negatif</td>\n",
              "    </tr>\n",
              "    <tr>\n",
              "      <th>4</th>\n",
              "      <td>x62182882</td>\n",
              "      <td>@501Awani Ahli2 politik perlu diberi keutamaan...</td>\n",
              "      <td>Jakarta</td>\n",
              "      <td>Negatif</td>\n",
              "    </tr>\n",
              "  </tbody>\n",
              "</table>\n",
              "</div>"
            ],
            "text/plain": [
              "                id_name  ...    Label\n",
              "0  x1242096848401129473  ...  Positif\n",
              "1  x1217116132693311488  ...  Negatif\n",
              "2             x79182387  ...  Negatif\n",
              "3  x1095587722675159040  ...  Negatif\n",
              "4             x62182882  ...  Negatif\n",
              "\n",
              "[5 rows x 4 columns]"
            ]
          },
          "metadata": {
            "tags": []
          },
          "execution_count": 7
        }
      ]
    },
    {
      "cell_type": "markdown",
      "metadata": {
        "id": "S3KBvfJv5W3P"
      },
      "source": [
        "## **Text Cleaning**"
      ]
    },
    {
      "cell_type": "markdown",
      "metadata": {
        "id": "M9RhfI9T5X_m"
      },
      "source": [
        "**Case folding**"
      ]
    },
    {
      "cell_type": "code",
      "metadata": {
        "id": "Bu0IxL2yGqY1"
      },
      "source": [
        "def clean(data):\r\n",
        "  temp_tweet = []\r\n",
        "\r\n",
        "  for tw in data:\r\n",
        "    # removal of @name[mention]\r\n",
        "    tw = re.sub(r\"(?:\\@|https?\\://)\\S+\", \"\", tw)\r\n",
        "\r\n",
        "    # removal of links[https://blabala.com]\r\n",
        "    # tw = re.sub(r\"http[s]?://(?:[a-zA-Z]|[0-9]|[$-_@.&+]|[!*\\(\\),]|(?:%[0-9a-fA-F][0-9a-fA-F]))+\", \"\", tw)\r\n",
        "    tw = re.sub(r\"http\\S+\", \"\", tw)\r\n",
        "\r\n",
        "    # removal of new line\r\n",
        "    tw = re.sub('\\n', '', tw)\r\n",
        "\r\n",
        "    # removal of RT\r\n",
        "    tw = re.sub('RT', '', tw)\r\n",
        "\r\n",
        "    # removal of punctuations and numbers\r\n",
        "    tw = re.sub(\"[^a-zA-Z^']\", \" \", tw)\r\n",
        "    tw = re.sub(\" {2,}\", \" \", tw)\r\n",
        "\r\n",
        "    # remove leading and trailing whitespace\r\n",
        "    tw = tw.strip()\r\n",
        "\r\n",
        "    # remove whitespace with a single space\r\n",
        "    tw = re.sub(r'\\s+', ' ', tw)\r\n",
        "\r\n",
        "    # convert text to Lowercase\r\n",
        "    tw = tw.lower();\r\n",
        "    temp_tweet.append(tw)\r\n",
        "  return temp_tweet"
      ],
      "execution_count": null,
      "outputs": []
    },
    {
      "cell_type": "code",
      "metadata": {
        "colab": {
          "base_uri": "https://localhost:8080/",
          "height": 195
        },
        "id": "2v0eOGjT8dzN",
        "outputId": "b63c4a7c-4e99-4bbf-da54-a5fd7991d49e"
      },
      "source": [
        "data['Clean_text'] = clean(data['text'])\r\n",
        "data.head()"
      ],
      "execution_count": null,
      "outputs": [
        {
          "output_type": "execute_result",
          "data": {
            "text/html": [
              "<div>\n",
              "<style scoped>\n",
              "    .dataframe tbody tr th:only-of-type {\n",
              "        vertical-align: middle;\n",
              "    }\n",
              "\n",
              "    .dataframe tbody tr th {\n",
              "        vertical-align: top;\n",
              "    }\n",
              "\n",
              "    .dataframe thead th {\n",
              "        text-align: right;\n",
              "    }\n",
              "</style>\n",
              "<table border=\"1\" class=\"dataframe\">\n",
              "  <thead>\n",
              "    <tr style=\"text-align: right;\">\n",
              "      <th></th>\n",
              "      <th>id_name</th>\n",
              "      <th>text</th>\n",
              "      <th>location</th>\n",
              "      <th>Label</th>\n",
              "      <th>Clean_text</th>\n",
              "    </tr>\n",
              "  </thead>\n",
              "  <tbody>\n",
              "    <tr>\n",
              "      <th>0</th>\n",
              "      <td>x1242096848401129473</td>\n",
              "      <td>disuntik vaksin emang sakit, tapi kalo ga mela...</td>\n",
              "      <td>Jakarta</td>\n",
              "      <td>Positif</td>\n",
              "      <td>disuntik vaksin emang sakit tapi kalo ga melal...</td>\n",
              "    </tr>\n",
              "    <tr>\n",
              "      <th>1</th>\n",
              "      <td>x1217116132693311488</td>\n",
              "      <td>@MAIAsangJUARA Ciptain lagu saja kakak MAIA\\n\\...</td>\n",
              "      <td>Indonesia</td>\n",
              "      <td>Negatif</td>\n",
              "      <td>ciptain lagu saja kakak maiayg judul nya di va...</td>\n",
              "    </tr>\n",
              "    <tr>\n",
              "      <th>2</th>\n",
              "      <td>x79182387</td>\n",
              "      <td>@seeksixsuck SJW anti vaksin. Mereka lebih per...</td>\n",
              "      <td>DKI Jakarta, Indonesia</td>\n",
              "      <td>Negatif</td>\n",
              "      <td>sjw anti vaksin mereka lebih percaya madu</td>\n",
              "    </tr>\n",
              "    <tr>\n",
              "      <th>3</th>\n",
              "      <td>x1095587722675159040</td>\n",
              "      <td>@LisaAmartatara3 Mak vaksin palsu Sibuk sendir...</td>\n",
              "      <td>DKI Jakarta, Indonesia</td>\n",
              "      <td>Negatif</td>\n",
              "      <td>mak vaksin palsu sibuk sendiri kena prank u f ...</td>\n",
              "    </tr>\n",
              "    <tr>\n",
              "      <th>4</th>\n",
              "      <td>x62182882</td>\n",
              "      <td>@501Awani Ahli2 politik perlu diberi keutamaan...</td>\n",
              "      <td>Jakarta</td>\n",
              "      <td>Negatif</td>\n",
              "      <td>ahli politik perlu diberi keutamaan vaksin cov...</td>\n",
              "    </tr>\n",
              "  </tbody>\n",
              "</table>\n",
              "</div>"
            ],
            "text/plain": [
              "                id_name  ...                                         Clean_text\n",
              "0  x1242096848401129473  ...  disuntik vaksin emang sakit tapi kalo ga melal...\n",
              "1  x1217116132693311488  ...  ciptain lagu saja kakak maiayg judul nya di va...\n",
              "2             x79182387  ...          sjw anti vaksin mereka lebih percaya madu\n",
              "3  x1095587722675159040  ...  mak vaksin palsu sibuk sendiri kena prank u f ...\n",
              "4             x62182882  ...  ahli politik perlu diberi keutamaan vaksin cov...\n",
              "\n",
              "[5 rows x 5 columns]"
            ]
          },
          "metadata": {
            "tags": []
          },
          "execution_count": 9
        }
      ]
    },
    {
      "cell_type": "markdown",
      "metadata": {
        "id": "iJcEtDQ-9GWY"
      },
      "source": [
        "**Tokenizing**"
      ]
    },
    {
      "cell_type": "code",
      "metadata": {
        "id": "RnaKgJ2ZKMla"
      },
      "source": [
        "def token(data):\r\n",
        "  return data.apply(nltk.word_tokenize)"
      ],
      "execution_count": null,
      "outputs": []
    },
    {
      "cell_type": "code",
      "metadata": {
        "colab": {
          "base_uri": "https://localhost:8080/",
          "height": 195
        },
        "id": "9tOBUizVKNfq",
        "outputId": "5e2e920a-4384-4506-d5bb-b00d49397f7a"
      },
      "source": [
        "data['Clean_text'] = token(data['Clean_text'])\r\n",
        "data.head()"
      ],
      "execution_count": null,
      "outputs": [
        {
          "output_type": "execute_result",
          "data": {
            "text/html": [
              "<div>\n",
              "<style scoped>\n",
              "    .dataframe tbody tr th:only-of-type {\n",
              "        vertical-align: middle;\n",
              "    }\n",
              "\n",
              "    .dataframe tbody tr th {\n",
              "        vertical-align: top;\n",
              "    }\n",
              "\n",
              "    .dataframe thead th {\n",
              "        text-align: right;\n",
              "    }\n",
              "</style>\n",
              "<table border=\"1\" class=\"dataframe\">\n",
              "  <thead>\n",
              "    <tr style=\"text-align: right;\">\n",
              "      <th></th>\n",
              "      <th>id_name</th>\n",
              "      <th>text</th>\n",
              "      <th>location</th>\n",
              "      <th>Label</th>\n",
              "      <th>Clean_text</th>\n",
              "    </tr>\n",
              "  </thead>\n",
              "  <tbody>\n",
              "    <tr>\n",
              "      <th>0</th>\n",
              "      <td>x1242096848401129473</td>\n",
              "      <td>disuntik vaksin emang sakit, tapi kalo ga mela...</td>\n",
              "      <td>Jakarta</td>\n",
              "      <td>Positif</td>\n",
              "      <td>[disuntik, vaksin, emang, sakit, tapi, kalo, g...</td>\n",
              "    </tr>\n",
              "    <tr>\n",
              "      <th>1</th>\n",
              "      <td>x1217116132693311488</td>\n",
              "      <td>@MAIAsangJUARA Ciptain lagu saja kakak MAIA\\n\\...</td>\n",
              "      <td>Indonesia</td>\n",
              "      <td>Negatif</td>\n",
              "      <td>[ciptain, lagu, saja, kakak, maiayg, judul, ny...</td>\n",
              "    </tr>\n",
              "    <tr>\n",
              "      <th>2</th>\n",
              "      <td>x79182387</td>\n",
              "      <td>@seeksixsuck SJW anti vaksin. Mereka lebih per...</td>\n",
              "      <td>DKI Jakarta, Indonesia</td>\n",
              "      <td>Negatif</td>\n",
              "      <td>[sjw, anti, vaksin, mereka, lebih, percaya, madu]</td>\n",
              "    </tr>\n",
              "    <tr>\n",
              "      <th>3</th>\n",
              "      <td>x1095587722675159040</td>\n",
              "      <td>@LisaAmartatara3 Mak vaksin palsu Sibuk sendir...</td>\n",
              "      <td>DKI Jakarta, Indonesia</td>\n",
              "      <td>Negatif</td>\n",
              "      <td>[mak, vaksin, palsu, sibuk, sendiri, kena, pra...</td>\n",
              "    </tr>\n",
              "    <tr>\n",
              "      <th>4</th>\n",
              "      <td>x62182882</td>\n",
              "      <td>@501Awani Ahli2 politik perlu diberi keutamaan...</td>\n",
              "      <td>Jakarta</td>\n",
              "      <td>Negatif</td>\n",
              "      <td>[ahli, politik, perlu, diberi, keutamaan, vaks...</td>\n",
              "    </tr>\n",
              "  </tbody>\n",
              "</table>\n",
              "</div>"
            ],
            "text/plain": [
              "                id_name  ...                                         Clean_text\n",
              "0  x1242096848401129473  ...  [disuntik, vaksin, emang, sakit, tapi, kalo, g...\n",
              "1  x1217116132693311488  ...  [ciptain, lagu, saja, kakak, maiayg, judul, ny...\n",
              "2             x79182387  ...  [sjw, anti, vaksin, mereka, lebih, percaya, madu]\n",
              "3  x1095587722675159040  ...  [mak, vaksin, palsu, sibuk, sendiri, kena, pra...\n",
              "4             x62182882  ...  [ahli, politik, perlu, diberi, keutamaan, vaks...\n",
              "\n",
              "[5 rows x 5 columns]"
            ]
          },
          "metadata": {
            "tags": []
          },
          "execution_count": 11
        }
      ]
    },
    {
      "cell_type": "markdown",
      "metadata": {
        "id": "HbAsd01E9Sl4"
      },
      "source": [
        "**Stop Word Removal**"
      ]
    },
    {
      "cell_type": "code",
      "metadata": {
        "id": "FWdqUisqLNip"
      },
      "source": [
        "def stop_words(data) :\r\n",
        "  stop_words = set(stopwords.words('indonesian'))\r\n",
        "  return data.apply(lambda x: [item for item in x if item not in stop_words])"
      ],
      "execution_count": null,
      "outputs": []
    },
    {
      "cell_type": "code",
      "metadata": {
        "id": "2135IJPELPxU",
        "colab": {
          "base_uri": "https://localhost:8080/",
          "height": 195
        },
        "outputId": "be61c9c7-3424-43c5-f5c6-5de1fc4e2e77"
      },
      "source": [
        "data['Clean_text'] = stop_words(data['Clean_text'])\r\n",
        "data.head()"
      ],
      "execution_count": null,
      "outputs": [
        {
          "output_type": "execute_result",
          "data": {
            "text/html": [
              "<div>\n",
              "<style scoped>\n",
              "    .dataframe tbody tr th:only-of-type {\n",
              "        vertical-align: middle;\n",
              "    }\n",
              "\n",
              "    .dataframe tbody tr th {\n",
              "        vertical-align: top;\n",
              "    }\n",
              "\n",
              "    .dataframe thead th {\n",
              "        text-align: right;\n",
              "    }\n",
              "</style>\n",
              "<table border=\"1\" class=\"dataframe\">\n",
              "  <thead>\n",
              "    <tr style=\"text-align: right;\">\n",
              "      <th></th>\n",
              "      <th>id_name</th>\n",
              "      <th>text</th>\n",
              "      <th>location</th>\n",
              "      <th>Label</th>\n",
              "      <th>Clean_text</th>\n",
              "    </tr>\n",
              "  </thead>\n",
              "  <tbody>\n",
              "    <tr>\n",
              "      <th>0</th>\n",
              "      <td>x1242096848401129473</td>\n",
              "      <td>disuntik vaksin emang sakit, tapi kalo ga mela...</td>\n",
              "      <td>Jakarta</td>\n",
              "      <td>Positif</td>\n",
              "      <td>[disuntik, vaksin, emang, sakit, kalo, ga, pro...</td>\n",
              "    </tr>\n",
              "    <tr>\n",
              "      <th>1</th>\n",
              "      <td>x1217116132693311488</td>\n",
              "      <td>@MAIAsangJUARA Ciptain lagu saja kakak MAIA\\n\\...</td>\n",
              "      <td>Indonesia</td>\n",
              "      <td>Negatif</td>\n",
              "      <td>[ciptain, lagu, kakak, maiayg, judul, nya, vak...</td>\n",
              "    </tr>\n",
              "    <tr>\n",
              "      <th>2</th>\n",
              "      <td>x79182387</td>\n",
              "      <td>@seeksixsuck SJW anti vaksin. Mereka lebih per...</td>\n",
              "      <td>DKI Jakarta, Indonesia</td>\n",
              "      <td>Negatif</td>\n",
              "      <td>[sjw, anti, vaksin, percaya, madu]</td>\n",
              "    </tr>\n",
              "    <tr>\n",
              "      <th>3</th>\n",
              "      <td>x1095587722675159040</td>\n",
              "      <td>@LisaAmartatara3 Mak vaksin palsu Sibuk sendir...</td>\n",
              "      <td>DKI Jakarta, Indonesia</td>\n",
              "      <td>Negatif</td>\n",
              "      <td>[mak, vaksin, palsu, sibuk, kena, prank, u, f,...</td>\n",
              "    </tr>\n",
              "    <tr>\n",
              "      <th>4</th>\n",
              "      <td>x62182882</td>\n",
              "      <td>@501Awani Ahli2 politik perlu diberi keutamaan...</td>\n",
              "      <td>Jakarta</td>\n",
              "      <td>Negatif</td>\n",
              "      <td>[ahli, politik, keutamaan, vaksin, covid, pakar]</td>\n",
              "    </tr>\n",
              "  </tbody>\n",
              "</table>\n",
              "</div>"
            ],
            "text/plain": [
              "                id_name  ...                                         Clean_text\n",
              "0  x1242096848401129473  ...  [disuntik, vaksin, emang, sakit, kalo, ga, pro...\n",
              "1  x1217116132693311488  ...  [ciptain, lagu, kakak, maiayg, judul, nya, vak...\n",
              "2             x79182387  ...                 [sjw, anti, vaksin, percaya, madu]\n",
              "3  x1095587722675159040  ...  [mak, vaksin, palsu, sibuk, kena, prank, u, f,...\n",
              "4             x62182882  ...   [ahli, politik, keutamaan, vaksin, covid, pakar]\n",
              "\n",
              "[5 rows x 5 columns]"
            ]
          },
          "metadata": {
            "tags": []
          },
          "execution_count": 13
        }
      ]
    },
    {
      "cell_type": "markdown",
      "metadata": {
        "id": "DG37Udgn_DRE"
      },
      "source": [
        "**Stemming**"
      ]
    },
    {
      "cell_type": "code",
      "metadata": {
        "colab": {
          "base_uri": "https://localhost:8080/",
          "height": 195
        },
        "id": "EqFP3WunCEWv",
        "outputId": "f51760ab-fb94-416b-92f8-4f936347fb53"
      },
      "source": [
        "data['Clean_text'] = data['Clean_text'].apply(lambda x: \" \".join(x) if isinstance(x, list) else x)\r\n",
        "data.head()"
      ],
      "execution_count": null,
      "outputs": [
        {
          "output_type": "execute_result",
          "data": {
            "text/html": [
              "<div>\n",
              "<style scoped>\n",
              "    .dataframe tbody tr th:only-of-type {\n",
              "        vertical-align: middle;\n",
              "    }\n",
              "\n",
              "    .dataframe tbody tr th {\n",
              "        vertical-align: top;\n",
              "    }\n",
              "\n",
              "    .dataframe thead th {\n",
              "        text-align: right;\n",
              "    }\n",
              "</style>\n",
              "<table border=\"1\" class=\"dataframe\">\n",
              "  <thead>\n",
              "    <tr style=\"text-align: right;\">\n",
              "      <th></th>\n",
              "      <th>id_name</th>\n",
              "      <th>text</th>\n",
              "      <th>location</th>\n",
              "      <th>Label</th>\n",
              "      <th>Clean_text</th>\n",
              "    </tr>\n",
              "  </thead>\n",
              "  <tbody>\n",
              "    <tr>\n",
              "      <th>0</th>\n",
              "      <td>x1242096848401129473</td>\n",
              "      <td>disuntik vaksin emang sakit, tapi kalo ga mela...</td>\n",
              "      <td>Jakarta</td>\n",
              "      <td>Positif</td>\n",
              "      <td>disuntik vaksin emang sakit kalo ga proses sun...</td>\n",
              "    </tr>\n",
              "    <tr>\n",
              "      <th>1</th>\n",
              "      <td>x1217116132693311488</td>\n",
              "      <td>@MAIAsangJUARA Ciptain lagu saja kakak MAIA\\n\\...</td>\n",
              "      <td>Indonesia</td>\n",
              "      <td>Negatif</td>\n",
              "      <td>ciptain lagu kakak maiayg judul nya vaksin tid...</td>\n",
              "    </tr>\n",
              "    <tr>\n",
              "      <th>2</th>\n",
              "      <td>x79182387</td>\n",
              "      <td>@seeksixsuck SJW anti vaksin. Mereka lebih per...</td>\n",
              "      <td>DKI Jakarta, Indonesia</td>\n",
              "      <td>Negatif</td>\n",
              "      <td>sjw anti vaksin percaya madu</td>\n",
              "    </tr>\n",
              "    <tr>\n",
              "      <th>3</th>\n",
              "      <td>x1095587722675159040</td>\n",
              "      <td>@LisaAmartatara3 Mak vaksin palsu Sibuk sendir...</td>\n",
              "      <td>DKI Jakarta, Indonesia</td>\n",
              "      <td>Negatif</td>\n",
              "      <td>mak vaksin palsu sibuk kena prank u f u f u f</td>\n",
              "    </tr>\n",
              "    <tr>\n",
              "      <th>4</th>\n",
              "      <td>x62182882</td>\n",
              "      <td>@501Awani Ahli2 politik perlu diberi keutamaan...</td>\n",
              "      <td>Jakarta</td>\n",
              "      <td>Negatif</td>\n",
              "      <td>ahli politik keutamaan vaksin covid pakar</td>\n",
              "    </tr>\n",
              "  </tbody>\n",
              "</table>\n",
              "</div>"
            ],
            "text/plain": [
              "                id_name  ...                                         Clean_text\n",
              "0  x1242096848401129473  ...  disuntik vaksin emang sakit kalo ga proses sun...\n",
              "1  x1217116132693311488  ...  ciptain lagu kakak maiayg judul nya vaksin tid...\n",
              "2             x79182387  ...                       sjw anti vaksin percaya madu\n",
              "3  x1095587722675159040  ...      mak vaksin palsu sibuk kena prank u f u f u f\n",
              "4             x62182882  ...          ahli politik keutamaan vaksin covid pakar\n",
              "\n",
              "[5 rows x 5 columns]"
            ]
          },
          "metadata": {
            "tags": []
          },
          "execution_count": 14
        }
      ]
    },
    {
      "cell_type": "code",
      "metadata": {
        "id": "DCW4XuOn_IJz"
      },
      "source": [
        "factory = StemmerFactory()\r\n",
        "stemmer = factory.create_stemmer()\r\n",
        "\r\n",
        "def stem(data) :\r\n",
        "    hasil = stemmer.stem(data)\r\n",
        "    return hasil"
      ],
      "execution_count": null,
      "outputs": []
    },
    {
      "cell_type": "code",
      "metadata": {
        "id": "7kHpZXVgqsJB"
      },
      "source": [
        "data['Clean_text'] = data.apply(lambda row : stem(row['Clean_text']), axis = 1)"
      ],
      "execution_count": null,
      "outputs": []
    },
    {
      "cell_type": "markdown",
      "metadata": {
        "id": "nIPavD6kPlJf"
      },
      "source": [
        "**Slang Removal**"
      ]
    },
    {
      "cell_type": "code",
      "metadata": {
        "id": "uh_QteqmYji4"
      },
      "source": [
        "slang_word = requests.get('https://raw.githubusercontent.com/louisowen6/NLP_bahasa_resources/master/combined_slang_words.txt').text\r\n",
        "dict_slang = eval(slang_word)\r\n",
        "\r\n",
        "df_acronym = pd.read_csv('https://raw.githubusercontent.com/ramaprakoso/analisis-sentimen/master/kamus/acronym.txt', header=None, sep='=')\r\n",
        "df_acronym.columns = ['Singkatan', 'kepanjangan']\r\n",
        "df_acronym.kepanjangan = df_acronym.kepanjangan.apply(lambda x: x.strip().lower())\r\n",
        "df_acronym.Singkatan = df_acronym.Singkatan.apply(lambda x: x.strip().lower())\r\n",
        "dict_singkatan = pd.Series(df_acronym.kepanjangan.values,index=df_acronym.Singkatan).to_dict()\r\n",
        "\r\n",
        "dict_clean = {**dict_singkatan, **dict_slang}"
      ],
      "execution_count": null,
      "outputs": []
    },
    {
      "cell_type": "code",
      "metadata": {
        "id": "N4GBFNvlYmXB"
      },
      "source": [
        "def preprocessing_slang_singkatan(text, dict_clean=dict_clean):\r\n",
        "  regex = r\"\\b(?:\"+\"|\".join(re.escape(word) for word in dict_clean) + r\")\\b\"\r\n",
        "  reobj = re.compile(regex, re.I)\r\n",
        "  \r\n",
        "  return reobj.sub(lambda x:dict_clean[x.group(0)], text)"
      ],
      "execution_count": null,
      "outputs": []
    },
    {
      "cell_type": "code",
      "metadata": {
        "id": "JwTS03GQey-Z"
      },
      "source": [
        "def clean_all(x, dict_clean=dict_clean):\r\n",
        "  x = preprocessing_slang_singkatan(x, dict_clean=dict_clean)\r\n",
        "  return x"
      ],
      "execution_count": null,
      "outputs": []
    },
    {
      "cell_type": "code",
      "metadata": {
        "id": "wgD2nYeWfWTC"
      },
      "source": [
        "tqdm.pandas()"
      ],
      "execution_count": null,
      "outputs": []
    },
    {
      "cell_type": "code",
      "metadata": {
        "id": "BKTn56b1Y39P",
        "colab": {
          "base_uri": "https://localhost:8080/"
        },
        "outputId": "01df17ab-87fb-4ba3-c7f2-36f6fa626390"
      },
      "source": [
        "data['Clean_text'] = data.Clean_text.progress_apply(lambda x: clean_all(x, dict_clean=dict_clean))"
      ],
      "execution_count": null,
      "outputs": [
        {
          "output_type": "stream",
          "text": [
            "100%|██████████| 3088/3088 [00:19<00:00, 156.20it/s]\n"
          ],
          "name": "stderr"
        }
      ]
    },
    {
      "cell_type": "code",
      "metadata": {
        "id": "74JV08w1I9Jk",
        "colab": {
          "base_uri": "https://localhost:8080/",
          "height": 402
        },
        "outputId": "27db6ec9-bcd7-4bd0-b034-59e676fd8dec"
      },
      "source": [
        "# Select Only Text Column\r\n",
        "data1 = data[['Clean_text']]\r\n",
        "data1"
      ],
      "execution_count": null,
      "outputs": [
        {
          "output_type": "execute_result",
          "data": {
            "text/html": [
              "<div>\n",
              "<style scoped>\n",
              "    .dataframe tbody tr th:only-of-type {\n",
              "        vertical-align: middle;\n",
              "    }\n",
              "\n",
              "    .dataframe tbody tr th {\n",
              "        vertical-align: top;\n",
              "    }\n",
              "\n",
              "    .dataframe thead th {\n",
              "        text-align: right;\n",
              "    }\n",
              "</style>\n",
              "<table border=\"1\" class=\"dataframe\">\n",
              "  <thead>\n",
              "    <tr style=\"text-align: right;\">\n",
              "      <th></th>\n",
              "      <th>Clean_text</th>\n",
              "    </tr>\n",
              "  </thead>\n",
              "  <tbody>\n",
              "    <tr>\n",
              "      <th>0</th>\n",
              "      <td>suntik vaksin emang sakit kalau nggak proses s...</td>\n",
              "    </tr>\n",
              "    <tr>\n",
              "      <th>1</th>\n",
              "      <td>ciptain lagu kakak maiayg judul nya vaksin tid...</td>\n",
              "    </tr>\n",
              "    <tr>\n",
              "      <th>2</th>\n",
              "      <td>sjw anti vaksin percaya madu</td>\n",
              "    </tr>\n",
              "    <tr>\n",
              "      <th>3</th>\n",
              "      <td>ibu vaksin palsu sibuk kena prank kamu fahrenh...</td>\n",
              "    </tr>\n",
              "    <tr>\n",
              "      <th>4</th>\n",
              "      <td>ahli politik utama vaksin covid pakar</td>\n",
              "    </tr>\n",
              "    <tr>\n",
              "      <th>...</th>\n",
              "      <td>...</td>\n",
              "    </tr>\n",
              "    <tr>\n",
              "      <th>3083</th>\n",
              "      <td>tuhan mahluk guna bahan utama vaksin anti corona</td>\n",
              "    </tr>\n",
              "    <tr>\n",
              "      <th>3084</th>\n",
              "      <td>international telecommunication union kalau ef...</td>\n",
              "    </tr>\n",
              "    <tr>\n",
              "      <th>3085</th>\n",
              "      <td>vaksin corona vaksin cepat temu sejarah dunia ...</td>\n",
              "    </tr>\n",
              "    <tr>\n",
              "      <th>3086</th>\n",
              "      <td>world health organization world health organiz...</td>\n",
              "    </tr>\n",
              "    <tr>\n",
              "      <th>3087</th>\n",
              "      <td>cinta vaksin</td>\n",
              "    </tr>\n",
              "  </tbody>\n",
              "</table>\n",
              "<p>3088 rows × 1 columns</p>\n",
              "</div>"
            ],
            "text/plain": [
              "                                             Clean_text\n",
              "0     suntik vaksin emang sakit kalau nggak proses s...\n",
              "1     ciptain lagu kakak maiayg judul nya vaksin tid...\n",
              "2                          sjw anti vaksin percaya madu\n",
              "3     ibu vaksin palsu sibuk kena prank kamu fahrenh...\n",
              "4                 ahli politik utama vaksin covid pakar\n",
              "...                                                 ...\n",
              "3083   tuhan mahluk guna bahan utama vaksin anti corona\n",
              "3084  international telecommunication union kalau ef...\n",
              "3085  vaksin corona vaksin cepat temu sejarah dunia ...\n",
              "3086  world health organization world health organiz...\n",
              "3087                                       cinta vaksin\n",
              "\n",
              "[3088 rows x 1 columns]"
            ]
          },
          "metadata": {
            "tags": []
          },
          "execution_count": 22
        }
      ]
    },
    {
      "cell_type": "code",
      "metadata": {
        "id": "x1ognBoJJj_y",
        "colab": {
          "base_uri": "https://localhost:8080/",
          "height": 402
        },
        "outputId": "c63df93d-c7ef-4e4a-ac63-8e731b9e5619"
      },
      "source": [
        "# Select Only Label Column\r\n",
        "data2 = data[['Label']]\r\n",
        "data2"
      ],
      "execution_count": null,
      "outputs": [
        {
          "output_type": "execute_result",
          "data": {
            "text/html": [
              "<div>\n",
              "<style scoped>\n",
              "    .dataframe tbody tr th:only-of-type {\n",
              "        vertical-align: middle;\n",
              "    }\n",
              "\n",
              "    .dataframe tbody tr th {\n",
              "        vertical-align: top;\n",
              "    }\n",
              "\n",
              "    .dataframe thead th {\n",
              "        text-align: right;\n",
              "    }\n",
              "</style>\n",
              "<table border=\"1\" class=\"dataframe\">\n",
              "  <thead>\n",
              "    <tr style=\"text-align: right;\">\n",
              "      <th></th>\n",
              "      <th>Label</th>\n",
              "    </tr>\n",
              "  </thead>\n",
              "  <tbody>\n",
              "    <tr>\n",
              "      <th>0</th>\n",
              "      <td>Positif</td>\n",
              "    </tr>\n",
              "    <tr>\n",
              "      <th>1</th>\n",
              "      <td>Negatif</td>\n",
              "    </tr>\n",
              "    <tr>\n",
              "      <th>2</th>\n",
              "      <td>Negatif</td>\n",
              "    </tr>\n",
              "    <tr>\n",
              "      <th>3</th>\n",
              "      <td>Negatif</td>\n",
              "    </tr>\n",
              "    <tr>\n",
              "      <th>4</th>\n",
              "      <td>Negatif</td>\n",
              "    </tr>\n",
              "    <tr>\n",
              "      <th>...</th>\n",
              "      <td>...</td>\n",
              "    </tr>\n",
              "    <tr>\n",
              "      <th>3083</th>\n",
              "      <td>Positif</td>\n",
              "    </tr>\n",
              "    <tr>\n",
              "      <th>3084</th>\n",
              "      <td>Positif</td>\n",
              "    </tr>\n",
              "    <tr>\n",
              "      <th>3085</th>\n",
              "      <td>Positif</td>\n",
              "    </tr>\n",
              "    <tr>\n",
              "      <th>3086</th>\n",
              "      <td>Positif</td>\n",
              "    </tr>\n",
              "    <tr>\n",
              "      <th>3087</th>\n",
              "      <td>Positif</td>\n",
              "    </tr>\n",
              "  </tbody>\n",
              "</table>\n",
              "<p>3088 rows × 1 columns</p>\n",
              "</div>"
            ],
            "text/plain": [
              "        Label\n",
              "0     Positif\n",
              "1     Negatif\n",
              "2     Negatif\n",
              "3     Negatif\n",
              "4     Negatif\n",
              "...       ...\n",
              "3083  Positif\n",
              "3084  Positif\n",
              "3085  Positif\n",
              "3086  Positif\n",
              "3087  Positif\n",
              "\n",
              "[3088 rows x 1 columns]"
            ]
          },
          "metadata": {
            "tags": []
          },
          "execution_count": 23
        }
      ]
    },
    {
      "cell_type": "code",
      "metadata": {
        "id": "6cEIHAVCJ2a2",
        "colab": {
          "base_uri": "https://localhost:8080/",
          "height": 402
        },
        "outputId": "38638aea-371d-4770-cc1f-fc21ef69756e"
      },
      "source": [
        "dataset = pd.concat([data1, data2], axis=1)\r\n",
        "dataset\r\n"
      ],
      "execution_count": null,
      "outputs": [
        {
          "output_type": "execute_result",
          "data": {
            "text/html": [
              "<div>\n",
              "<style scoped>\n",
              "    .dataframe tbody tr th:only-of-type {\n",
              "        vertical-align: middle;\n",
              "    }\n",
              "\n",
              "    .dataframe tbody tr th {\n",
              "        vertical-align: top;\n",
              "    }\n",
              "\n",
              "    .dataframe thead th {\n",
              "        text-align: right;\n",
              "    }\n",
              "</style>\n",
              "<table border=\"1\" class=\"dataframe\">\n",
              "  <thead>\n",
              "    <tr style=\"text-align: right;\">\n",
              "      <th></th>\n",
              "      <th>Clean_text</th>\n",
              "      <th>Label</th>\n",
              "    </tr>\n",
              "  </thead>\n",
              "  <tbody>\n",
              "    <tr>\n",
              "      <th>0</th>\n",
              "      <td>suntik vaksin emang sakit kalau nggak proses s...</td>\n",
              "      <td>Positif</td>\n",
              "    </tr>\n",
              "    <tr>\n",
              "      <th>1</th>\n",
              "      <td>ciptain lagu kakak maiayg judul nya vaksin tid...</td>\n",
              "      <td>Negatif</td>\n",
              "    </tr>\n",
              "    <tr>\n",
              "      <th>2</th>\n",
              "      <td>sjw anti vaksin percaya madu</td>\n",
              "      <td>Negatif</td>\n",
              "    </tr>\n",
              "    <tr>\n",
              "      <th>3</th>\n",
              "      <td>ibu vaksin palsu sibuk kena prank kamu fahrenh...</td>\n",
              "      <td>Negatif</td>\n",
              "    </tr>\n",
              "    <tr>\n",
              "      <th>4</th>\n",
              "      <td>ahli politik utama vaksin covid pakar</td>\n",
              "      <td>Negatif</td>\n",
              "    </tr>\n",
              "    <tr>\n",
              "      <th>...</th>\n",
              "      <td>...</td>\n",
              "      <td>...</td>\n",
              "    </tr>\n",
              "    <tr>\n",
              "      <th>3083</th>\n",
              "      <td>tuhan mahluk guna bahan utama vaksin anti corona</td>\n",
              "      <td>Positif</td>\n",
              "    </tr>\n",
              "    <tr>\n",
              "      <th>3084</th>\n",
              "      <td>international telecommunication union kalau ef...</td>\n",
              "      <td>Positif</td>\n",
              "    </tr>\n",
              "    <tr>\n",
              "      <th>3085</th>\n",
              "      <td>vaksin corona vaksin cepat temu sejarah dunia ...</td>\n",
              "      <td>Positif</td>\n",
              "    </tr>\n",
              "    <tr>\n",
              "      <th>3086</th>\n",
              "      <td>world health organization world health organiz...</td>\n",
              "      <td>Positif</td>\n",
              "    </tr>\n",
              "    <tr>\n",
              "      <th>3087</th>\n",
              "      <td>cinta vaksin</td>\n",
              "      <td>Positif</td>\n",
              "    </tr>\n",
              "  </tbody>\n",
              "</table>\n",
              "<p>3088 rows × 2 columns</p>\n",
              "</div>"
            ],
            "text/plain": [
              "                                             Clean_text    Label\n",
              "0     suntik vaksin emang sakit kalau nggak proses s...  Positif\n",
              "1     ciptain lagu kakak maiayg judul nya vaksin tid...  Negatif\n",
              "2                          sjw anti vaksin percaya madu  Negatif\n",
              "3     ibu vaksin palsu sibuk kena prank kamu fahrenh...  Negatif\n",
              "4                 ahli politik utama vaksin covid pakar  Negatif\n",
              "...                                                 ...      ...\n",
              "3083   tuhan mahluk guna bahan utama vaksin anti corona  Positif\n",
              "3084  international telecommunication union kalau ef...  Positif\n",
              "3085  vaksin corona vaksin cepat temu sejarah dunia ...  Positif\n",
              "3086  world health organization world health organiz...  Positif\n",
              "3087                                       cinta vaksin  Positif\n",
              "\n",
              "[3088 rows x 2 columns]"
            ]
          },
          "metadata": {
            "tags": []
          },
          "execution_count": 24
        }
      ]
    },
    {
      "cell_type": "code",
      "metadata": {
        "id": "KY9UnGX0h-YE"
      },
      "source": [
        "# save data to csv\r\n",
        "dataset.to_csv('Clean Dataset.csv', index=False)"
      ],
      "execution_count": null,
      "outputs": []
    },
    {
      "cell_type": "code",
      "metadata": {
        "id": "WEMtpcOCjam0",
        "colab": {
          "base_uri": "https://localhost:8080/",
          "height": 402
        },
        "outputId": "2d245279-2ff1-4aa5-ed8b-99f94f2bc6a2"
      },
      "source": [
        "dataset = pd.read_csv('Clean Dataset.csv')\r\n",
        "dataset"
      ],
      "execution_count": null,
      "outputs": [
        {
          "output_type": "execute_result",
          "data": {
            "text/html": [
              "<div>\n",
              "<style scoped>\n",
              "    .dataframe tbody tr th:only-of-type {\n",
              "        vertical-align: middle;\n",
              "    }\n",
              "\n",
              "    .dataframe tbody tr th {\n",
              "        vertical-align: top;\n",
              "    }\n",
              "\n",
              "    .dataframe thead th {\n",
              "        text-align: right;\n",
              "    }\n",
              "</style>\n",
              "<table border=\"1\" class=\"dataframe\">\n",
              "  <thead>\n",
              "    <tr style=\"text-align: right;\">\n",
              "      <th></th>\n",
              "      <th>Clean_text</th>\n",
              "      <th>Label</th>\n",
              "    </tr>\n",
              "  </thead>\n",
              "  <tbody>\n",
              "    <tr>\n",
              "      <th>0</th>\n",
              "      <td>suntik vaksin emang sakit kalau nggak proses s...</td>\n",
              "      <td>Positif</td>\n",
              "    </tr>\n",
              "    <tr>\n",
              "      <th>1</th>\n",
              "      <td>ciptain lagu kakak maiayg judul nya vaksin tid...</td>\n",
              "      <td>Negatif</td>\n",
              "    </tr>\n",
              "    <tr>\n",
              "      <th>2</th>\n",
              "      <td>sjw anti vaksin percaya madu</td>\n",
              "      <td>Negatif</td>\n",
              "    </tr>\n",
              "    <tr>\n",
              "      <th>3</th>\n",
              "      <td>ibu vaksin palsu sibuk kena prank kamu fahrenh...</td>\n",
              "      <td>Negatif</td>\n",
              "    </tr>\n",
              "    <tr>\n",
              "      <th>4</th>\n",
              "      <td>ahli politik utama vaksin covid pakar</td>\n",
              "      <td>Negatif</td>\n",
              "    </tr>\n",
              "    <tr>\n",
              "      <th>...</th>\n",
              "      <td>...</td>\n",
              "      <td>...</td>\n",
              "    </tr>\n",
              "    <tr>\n",
              "      <th>3083</th>\n",
              "      <td>tuhan mahluk guna bahan utama vaksin anti corona</td>\n",
              "      <td>Positif</td>\n",
              "    </tr>\n",
              "    <tr>\n",
              "      <th>3084</th>\n",
              "      <td>international telecommunication union kalau ef...</td>\n",
              "      <td>Positif</td>\n",
              "    </tr>\n",
              "    <tr>\n",
              "      <th>3085</th>\n",
              "      <td>vaksin corona vaksin cepat temu sejarah dunia ...</td>\n",
              "      <td>Positif</td>\n",
              "    </tr>\n",
              "    <tr>\n",
              "      <th>3086</th>\n",
              "      <td>world health organization world health organiz...</td>\n",
              "      <td>Positif</td>\n",
              "    </tr>\n",
              "    <tr>\n",
              "      <th>3087</th>\n",
              "      <td>cinta vaksin</td>\n",
              "      <td>Positif</td>\n",
              "    </tr>\n",
              "  </tbody>\n",
              "</table>\n",
              "<p>3088 rows × 2 columns</p>\n",
              "</div>"
            ],
            "text/plain": [
              "                                             Clean_text    Label\n",
              "0     suntik vaksin emang sakit kalau nggak proses s...  Positif\n",
              "1     ciptain lagu kakak maiayg judul nya vaksin tid...  Negatif\n",
              "2                          sjw anti vaksin percaya madu  Negatif\n",
              "3     ibu vaksin palsu sibuk kena prank kamu fahrenh...  Negatif\n",
              "4                 ahli politik utama vaksin covid pakar  Negatif\n",
              "...                                                 ...      ...\n",
              "3083   tuhan mahluk guna bahan utama vaksin anti corona  Positif\n",
              "3084  international telecommunication union kalau ef...  Positif\n",
              "3085  vaksin corona vaksin cepat temu sejarah dunia ...  Positif\n",
              "3086  world health organization world health organiz...  Positif\n",
              "3087                                       cinta vaksin  Positif\n",
              "\n",
              "[3088 rows x 2 columns]"
            ]
          },
          "metadata": {
            "tags": []
          },
          "execution_count": 34
        }
      ]
    },
    {
      "cell_type": "markdown",
      "metadata": {
        "id": "zKewKY6JwSQB"
      },
      "source": [
        "**Data Visualization**"
      ]
    },
    {
      "cell_type": "code",
      "metadata": {
        "id": "7bpSJ5YqwVI5",
        "colab": {
          "base_uri": "https://localhost:8080/"
        },
        "outputId": "9970c3ba-f80d-4c3d-8cc9-10e960e7db7f"
      },
      "source": [
        "#wordcloud\r\n",
        "!pip install wordcloud"
      ],
      "execution_count": null,
      "outputs": [
        {
          "output_type": "stream",
          "text": [
            "Requirement already satisfied: wordcloud in /usr/local/lib/python3.6/dist-packages (1.5.0)\n",
            "Requirement already satisfied: numpy>=1.6.1 in /usr/local/lib/python3.6/dist-packages (from wordcloud) (1.19.4)\n",
            "Requirement already satisfied: pillow in /usr/local/lib/python3.6/dist-packages (from wordcloud) (7.0.0)\n"
          ],
          "name": "stdout"
        }
      ]
    },
    {
      "cell_type": "code",
      "metadata": {
        "id": "IcGRlrVD7TLy"
      },
      "source": [
        "from wordcloud import WordCloud, STOPWORDS, ImageColorGenerator\r\n",
        "from PIL import Image\r\n",
        "?WordCloud"
      ],
      "execution_count": 91,
      "outputs": []
    },
    {
      "cell_type": "code",
      "metadata": {
        "id": "N1j79jIkwXSm"
      },
      "source": [
        "cleanup_num = {\"Label\":{\"Positif\": 1, \"Negatif\": 0}}\r\n",
        "dataset.replace(cleanup_num, inplace=True)"
      ],
      "execution_count": 92,
      "outputs": []
    },
    {
      "cell_type": "code",
      "metadata": {
        "id": "FWBY_YSbx1JZ",
        "colab": {
          "base_uri": "https://localhost:8080/",
          "height": 483
        },
        "outputId": "5e8e2ec2-18c4-44e6-cd10-37d7633cbc83"
      },
      "source": [
        "normal_words = ' '.join([word for word in dataset['Clean_text'][dataset['Label'] == 0]])\r\n",
        "wordcloud = WordCloud(width = 400, height = 300, max_font_size = 100).generate(normal_words)\r\n",
        "print('Gambaran pendapat masyarakat terkait kebijakan mengenai vaksin')\r\n",
        "plt.figure(figsize= (12,8))\r\n",
        "plt.imshow(wordcloud, interpolation = 'bilinear')\r\n",
        "plt.axis('off')\r\n",
        "plt.savefig('wordcloud.png')\r\n",
        "plt.show()"
      ],
      "execution_count": 94,
      "outputs": [
        {
          "output_type": "stream",
          "text": [
            "Gambaran pendapat masyarakat terkait kebijakan mengenai vaksin\n"
          ],
          "name": "stdout"
        },
        {
          "output_type": "display_data",
          "data": {
            "image/png": "[encoded data removed]",
            "text/plain": [
              "<Figure size 864x576 with 1 Axes>"
            ]
          },
          "metadata": {
            "tags": []
          }
        }
      ]
    },
    {
      "cell_type": "code",
      "metadata": {
        "id": "ny8sNG5Pwhll",
        "colab": {
          "base_uri": "https://localhost:8080/",
          "height": 299
        },
        "outputId": "99974113-1240-44c6-fbfb-893a9f86c07d"
      },
      "source": [
        "#bar graph to count positive negative label\r\n",
        "cleanup_num = {\"Label\":{1:\"Positif\", 0:\"Negatif\"}}\r\n",
        "dataset.replace(cleanup_num, inplace=True)\r\n",
        "\r\n",
        "fig2 = sns.countplot(x= 'Label',data = dataset)\r\n",
        "plt.title('Label Counts')\r\n",
        "plot = fig2.get_figure()\r\n",
        "plot.savefig('Count Plot.png')"
      ],
      "execution_count": null,
      "outputs": [
        {
          "output_type": "display_data",
          "data": {
            "image/png": "[encoded data removed]",
            "text/plain": [
              "<Figure size 432x288 with 1 Axes>"
            ]
          },
          "metadata": {
            "tags": []
          }
        }
      ]
    },
    {
      "cell_type": "markdown",
      "metadata": {
        "id": "9ClFUrWl9vAU"
      },
      "source": [
        "## **Vectorization**"
      ]
    },
    {
      "cell_type": "markdown",
      "metadata": {
        "id": "K_dA_c2C9w4H"
      },
      "source": [
        "**Count Vectorizer**"
      ]
    },
    {
      "cell_type": "code",
      "metadata": {
        "id": "BDikt8a0r9ZW",
        "colab": {
          "base_uri": "https://localhost:8080/"
        },
        "outputId": "c8c8d8c4-9768-493b-c096-570abd487cf6"
      },
      "source": [
        "X = dataset['Clean_text']\r\n",
        "# Count Vectorizer\r\n",
        "count_vectorizer = CountVectorizer()\r\n",
        "count_vector = count_vectorizer.fit_transform(X)\r\n",
        "count_vector.shape"
      ],
      "execution_count": null,
      "outputs": [
        {
          "output_type": "execute_result",
          "data": {
            "text/plain": [
              "(3088, 7080)"
            ]
          },
          "metadata": {
            "tags": []
          },
          "execution_count": 111
        }
      ]
    },
    {
      "cell_type": "markdown",
      "metadata": {
        "id": "gM6bumjG94Yn"
      },
      "source": [
        "**TF-IDF Vectorizer**"
      ]
    },
    {
      "cell_type": "code",
      "metadata": {
        "id": "UvNVmBSFsC94",
        "colab": {
          "base_uri": "https://localhost:8080/"
        },
        "outputId": "607dd45b-27ff-4565-a85f-be552ea8d8b7"
      },
      "source": [
        "tfidf_vectorizer = TfidfVectorizer()\r\n",
        "tfid_vector = tfidf_vectorizer.fit_transform(X)\r\n",
        "tfid_vector.shape"
      ],
      "execution_count": null,
      "outputs": [
        {
          "output_type": "execute_result",
          "data": {
            "text/plain": [
              "(3088, 7080)"
            ]
          },
          "metadata": {
            "tags": []
          },
          "execution_count": 112
        }
      ]
    },
    {
      "cell_type": "markdown",
      "metadata": {
        "id": "Q0U0aT9_98-E"
      },
      "source": [
        "**Label Encoder**"
      ]
    },
    {
      "cell_type": "code",
      "metadata": {
        "id": "gIWGC07GsF2H",
        "colab": {
          "base_uri": "https://localhost:8080/"
        },
        "outputId": "ca3cd5e9-0fae-48cb-8568-2abd0b524d4d"
      },
      "source": [
        "# Encode Target\r\n",
        "encoder = LabelEncoder()\r\n",
        "label = encoder.fit_transform(dataset['Label'])\r\n",
        "label"
      ],
      "execution_count": null,
      "outputs": [
        {
          "output_type": "execute_result",
          "data": {
            "text/plain": [
              "array([1, 0, 0, ..., 1, 1, 1])"
            ]
          },
          "metadata": {
            "tags": []
          },
          "execution_count": 113
        }
      ]
    },
    {
      "cell_type": "markdown",
      "metadata": {
        "id": "lhrrFicG-IOY"
      },
      "source": [
        "# **Data Splitting**"
      ]
    },
    {
      "cell_type": "code",
      "metadata": {
        "id": "HGIElHp0pX1N",
        "colab": {
          "base_uri": "https://localhost:8080/"
        },
        "outputId": "9ea36dcd-afa7-4447-e8fa-448070792429"
      },
      "source": [
        "sampler = SMOTE()\r\n",
        "tfid_vector, label = sampler.fit_resample(tfid_vector, label)\r\n",
        "X_train, X_test, y_train, y_test = train_test_split(tfid_vector, label , shuffle = True, test_size=0.20, random_state=0)"
      ],
      "execution_count": null,
      "outputs": [
        {
          "output_type": "stream",
          "text": [
            "/usr/local/lib/python3.6/dist-packages/sklearn/utils/deprecation.py:87: FutureWarning: Function safe_indexing is deprecated; safe_indexing is deprecated in version 0.22 and will be removed in version 0.24.\n",
            "  warnings.warn(msg, category=FutureWarning)\n"
          ],
          "name": "stderr"
        }
      ]
    },
    {
      "cell_type": "code",
      "metadata": {
        "id": "H4oDmExxpgST",
        "colab": {
          "base_uri": "https://localhost:8080/"
        },
        "outputId": "94b40a92-9e09-497d-c8d5-d6c53149e719"
      },
      "source": [
        "# Show the Training and Testing Data\r\n",
        "print(X_train.shape)\r\n",
        "print(X_test.shape)\r\n",
        "print(y_train.shape)\r\n",
        "print(y_test.shape)"
      ],
      "execution_count": null,
      "outputs": [
        {
          "output_type": "stream",
          "text": [
            "(2936, 7080)\n",
            "(734, 7080)\n",
            "(2936,)\n",
            "(734,)\n"
          ],
          "name": "stdout"
        }
      ]
    },
    {
      "cell_type": "markdown",
      "metadata": {
        "id": "37GLTakE-KqL"
      },
      "source": [
        "# **Modelling**"
      ]
    },
    {
      "cell_type": "markdown",
      "metadata": {
        "id": "bb_FX6rh-SCn"
      },
      "source": [
        "## **Support Vector Machine**"
      ]
    },
    {
      "cell_type": "code",
      "metadata": {
        "id": "AP480_anpnA6"
      },
      "source": [
        "from sklearn.svm import SVC\r\n",
        "# svmc = SVC(kernel='rbf',probability=True)\r\n",
        "svmc = SVC(kernel='linear')\r\n",
        "\r\n",
        "# Training SVM\r\n",
        "svmc.fit(X_train, y_train)\r\n",
        "\r\n",
        "# predict SVM to test data\r\n",
        "y_pred_svm = svmc.predict(X_test)"
      ],
      "execution_count": null,
      "outputs": []
    },
    {
      "cell_type": "code",
      "metadata": {
        "id": "NfEBDMtSpypm",
        "colab": {
          "base_uri": "https://localhost:8080/",
          "height": 337
        },
        "outputId": "26f499b2-96f1-4db8-a2f5-12141b11f49e"
      },
      "source": [
        "cm_svm = confusion_matrix(y_test, y_pred_svm)\r\n",
        "cm_svm\r\n",
        "plot_confusion_matrix(cm_svm, figsize=(5,5))\r\n",
        "plt.show()"
      ],
      "execution_count": null,
      "outputs": [
        {
          "output_type": "display_data",
          "data": {
            "image/png": "[encoded data removed]",
            "text/plain": [
              "<Figure size 360x360 with 1 Axes>"
            ]
          },
          "metadata": {
            "tags": []
          }
        }
      ]
    },
    {
      "cell_type": "code",
      "metadata": {
        "id": "UamlfCSArUlQ",
        "colab": {
          "base_uri": "https://localhost:8080/"
        },
        "outputId": "e6d2f466-77a5-4d2b-b1bb-29e15bb14c2f"
      },
      "source": [
        "# Classification report\r\n",
        "print(\"Report : \\n\", classification_report(y_test, y_pred_svm))\r\n",
        "print(\"Accuracy : \",accuracy_score(y_test,y_pred_svm))\r\n",
        "accSVMC = accuracy_score(y_test,y_pred_svm)"
      ],
      "execution_count": null,
      "outputs": [
        {
          "output_type": "stream",
          "text": [
            "Report : \n",
            "               precision    recall  f1-score   support\n",
            "\n",
            "           0       0.69      0.75      0.72       351\n",
            "           1       0.75      0.69      0.72       383\n",
            "\n",
            "    accuracy                           0.72       734\n",
            "   macro avg       0.72      0.72      0.72       734\n",
            "weighted avg       0.72      0.72      0.72       734\n",
            "\n",
            "Accuracy :  0.7166212534059946\n"
          ],
          "name": "stdout"
        }
      ]
    },
    {
      "cell_type": "markdown",
      "metadata": {
        "id": "9pDnHJoT-iNJ"
      },
      "source": [
        "## **MLP**"
      ]
    },
    {
      "cell_type": "code",
      "metadata": {
        "id": "iVhaoaqoAiop",
        "colab": {
          "base_uri": "https://localhost:8080/"
        },
        "outputId": "041b92e5-16d9-485e-e0e3-ecd3b403fd23"
      },
      "source": [
        "from sklearn.neural_network import MLPClassifier\r\n",
        "\r\n",
        "# mlpc = MLPClassifier(hidden_layer_sizes=(100, 4), max_iter=300, alpha=1e-4,\r\n",
        "#                     solver='sgd', verbose=10, tol=1e-4, random_state=1,\r\n",
        "#                     learning_rate_init=.1)\r\n",
        "mlpc = MLPClassifier(hidden_layer_sizes=(25,25,5), max_iter=500, alpha=0.03,\r\n",
        "                     solver='sgd', verbose=10,  random_state=21,tol=0.000000001,learning_rate_init=.1)\r\n",
        "\r\n",
        "# Training knn\r\n",
        "mlpc.fit(X_train, y_train)\r\n",
        "\r\n",
        "# predict knn to test data\r\n",
        "y_pred_mlpc = mlpc.predict(X_test)\r\n"
      ],
      "execution_count": null,
      "outputs": [
        {
          "output_type": "stream",
          "text": [
            "Iteration 1, loss = 0.71993159\n",
            "Iteration 2, loss = 0.70191574\n",
            "Iteration 3, loss = 0.69987574\n",
            "Iteration 4, loss = 0.69989984\n",
            "Iteration 5, loss = 0.69989066\n",
            "Iteration 6, loss = 0.69958168\n",
            "Iteration 7, loss = 0.69972851\n",
            "Iteration 8, loss = 0.69975479\n",
            "Iteration 9, loss = 0.69968525\n",
            "Iteration 10, loss = 0.69944958\n",
            "Iteration 11, loss = 0.69965414\n",
            "Iteration 12, loss = 0.69930424\n",
            "Iteration 13, loss = 0.69924699\n",
            "Iteration 14, loss = 0.69928147\n",
            "Iteration 15, loss = 0.69923996\n",
            "Iteration 16, loss = 0.69904752\n",
            "Iteration 17, loss = 0.69885323\n",
            "Iteration 18, loss = 0.69875563\n",
            "Iteration 19, loss = 0.69840777\n",
            "Iteration 20, loss = 0.69799025\n",
            "Iteration 21, loss = 0.69737588\n",
            "Iteration 22, loss = 0.69594539\n",
            "Iteration 23, loss = 0.69406428\n",
            "Iteration 24, loss = 0.69052807\n",
            "Iteration 25, loss = 0.68234795\n",
            "Iteration 26, loss = 0.66389684\n",
            "Iteration 27, loss = 0.62303360\n",
            "Iteration 28, loss = 0.71883574\n",
            "Iteration 29, loss = 0.70170014\n",
            "Iteration 30, loss = 0.70141277\n",
            "Iteration 31, loss = 0.70064130\n",
            "Iteration 32, loss = 0.70019420\n",
            "Iteration 33, loss = 0.70004826\n",
            "Iteration 34, loss = 0.70040648\n",
            "Iteration 35, loss = 0.69994429\n",
            "Iteration 36, loss = 0.70012790\n",
            "Iteration 37, loss = 0.69991466\n",
            "Iteration 38, loss = 0.70010868\n",
            "Training loss did not improve more than tol=0.000000 for 10 consecutive epochs. Stopping.\n"
          ],
          "name": "stdout"
        }
      ]
    },
    {
      "cell_type": "code",
      "metadata": {
        "id": "dLpG4cG2A3yJ",
        "colab": {
          "base_uri": "https://localhost:8080/"
        },
        "outputId": "ca992447-ccfb-4263-82c3-e343d4e03ae8"
      },
      "source": [
        "# Classification report\r\n",
        "print(\"Report : \\n\", classification_report(y_test, y_pred_mlpc))\r\n",
        "print(\"Accuracy : \",accuracy_score(y_test,y_pred_mlpc))\r\n",
        "accMLPC = accuracy_score(y_test,y_pred_mlpc)"
      ],
      "execution_count": null,
      "outputs": [
        {
          "output_type": "stream",
          "text": [
            "Report : \n",
            "               precision    recall  f1-score   support\n",
            "\n",
            "           0       0.48      1.00      0.65       351\n",
            "           1       0.00      0.00      0.00       383\n",
            "\n",
            "    accuracy                           0.48       734\n",
            "   macro avg       0.24      0.50      0.32       734\n",
            "weighted avg       0.23      0.48      0.31       734\n",
            "\n",
            "Accuracy :  0.4782016348773842\n"
          ],
          "name": "stdout"
        },
        {
          "output_type": "stream",
          "text": [
            "/usr/local/lib/python3.6/dist-packages/sklearn/metrics/_classification.py:1272: UndefinedMetricWarning: Precision and F-score are ill-defined and being set to 0.0 in labels with no predicted samples. Use `zero_division` parameter to control this behavior.\n",
            "  _warn_prf(average, modifier, msg_start, len(result))\n"
          ],
          "name": "stderr"
        }
      ]
    },
    {
      "cell_type": "markdown",
      "metadata": {
        "id": "v2TLL9_RRqSb"
      },
      "source": [
        "## **Neural Network**"
      ]
    },
    {
      "cell_type": "code",
      "metadata": {
        "id": "61-iJR2Amivb",
        "colab": {
          "base_uri": "https://localhost:8080/"
        },
        "outputId": "976bf800-679e-4979-8622-f5b3f402b854"
      },
      "source": [
        "!pip install tensorflow"
      ],
      "execution_count": null,
      "outputs": [
        {
          "output_type": "stream",
          "text": [
            "Requirement already satisfied: tensorflow in /usr/local/lib/python3.6/dist-packages (2.4.0)\n",
            "Requirement already satisfied: wheel~=0.35 in /usr/local/lib/python3.6/dist-packages (from tensorflow) (0.36.2)\n",
            "Requirement already satisfied: google-pasta~=0.2 in /usr/local/lib/python3.6/dist-packages (from tensorflow) (0.2.0)\n",
            "Requirement already satisfied: tensorflow-estimator<2.5.0,>=2.4.0rc0 in /usr/local/lib/python3.6/dist-packages (from tensorflow) (2.4.0)\n",
            "Requirement already satisfied: h5py~=2.10.0 in /usr/local/lib/python3.6/dist-packages (from tensorflow) (2.10.0)\n",
            "Requirement already satisfied: six~=1.15.0 in /usr/local/lib/python3.6/dist-packages (from tensorflow) (1.15.0)\n",
            "Requirement already satisfied: tensorboard~=2.4 in /usr/local/lib/python3.6/dist-packages (from tensorflow) (2.4.0)\n",
            "Requirement already satisfied: protobuf>=3.9.2 in /usr/local/lib/python3.6/dist-packages (from tensorflow) (3.12.4)\n",
            "Requirement already satisfied: wrapt~=1.12.1 in /usr/local/lib/python3.6/dist-packages (from tensorflow) (1.12.1)\n",
            "Requirement already satisfied: gast==0.3.3 in /usr/local/lib/python3.6/dist-packages (from tensorflow) (0.3.3)\n",
            "Requirement already satisfied: termcolor~=1.1.0 in /usr/local/lib/python3.6/dist-packages (from tensorflow) (1.1.0)\n",
            "Requirement already satisfied: keras-preprocessing~=1.1.2 in /usr/local/lib/python3.6/dist-packages (from tensorflow) (1.1.2)\n",
            "Requirement already satisfied: absl-py~=0.10 in /usr/local/lib/python3.6/dist-packages (from tensorflow) (0.10.0)\n",
            "Requirement already satisfied: opt-einsum~=3.3.0 in /usr/local/lib/python3.6/dist-packages (from tensorflow) (3.3.0)\n",
            "Requirement already satisfied: typing-extensions~=3.7.4 in /usr/local/lib/python3.6/dist-packages (from tensorflow) (3.7.4.3)\n",
            "Requirement already satisfied: numpy~=1.19.2 in /usr/local/lib/python3.6/dist-packages (from tensorflow) (1.19.4)\n",
            "Requirement already satisfied: astunparse~=1.6.3 in /usr/local/lib/python3.6/dist-packages (from tensorflow) (1.6.3)\n",
            "Requirement already satisfied: flatbuffers~=1.12.0 in /usr/local/lib/python3.6/dist-packages (from tensorflow) (1.12)\n",
            "Requirement already satisfied: grpcio~=1.32.0 in /usr/local/lib/python3.6/dist-packages (from tensorflow) (1.32.0)\n",
            "Requirement already satisfied: setuptools>=41.0.0 in /usr/local/lib/python3.6/dist-packages (from tensorboard~=2.4->tensorflow) (50.3.2)\n",
            "Requirement already satisfied: tensorboard-plugin-wit>=1.6.0 in /usr/local/lib/python3.6/dist-packages (from tensorboard~=2.4->tensorflow) (1.7.0)\n",
            "Requirement already satisfied: werkzeug>=0.11.15 in /usr/local/lib/python3.6/dist-packages (from tensorboard~=2.4->tensorflow) (1.0.1)\n",
            "Requirement already satisfied: markdown>=2.6.8 in /usr/local/lib/python3.6/dist-packages (from tensorboard~=2.4->tensorflow) (3.3.3)\n",
            "Requirement already satisfied: requests<3,>=2.21.0 in /usr/local/lib/python3.6/dist-packages (from tensorboard~=2.4->tensorflow) (2.23.0)\n",
            "Requirement already satisfied: google-auth<2,>=1.6.3 in /usr/local/lib/python3.6/dist-packages (from tensorboard~=2.4->tensorflow) (1.17.2)\n",
            "Requirement already satisfied: google-auth-oauthlib<0.5,>=0.4.1 in /usr/local/lib/python3.6/dist-packages (from tensorboard~=2.4->tensorflow) (0.4.2)\n",
            "Requirement already satisfied: importlib-metadata; python_version < \"3.8\" in /usr/local/lib/python3.6/dist-packages (from markdown>=2.6.8->tensorboard~=2.4->tensorflow) (3.3.0)\n",
            "Requirement already satisfied: chardet<4,>=3.0.2 in /usr/local/lib/python3.6/dist-packages (from requests<3,>=2.21.0->tensorboard~=2.4->tensorflow) (3.0.4)\n",
            "Requirement already satisfied: certifi>=2017.4.17 in /usr/local/lib/python3.6/dist-packages (from requests<3,>=2.21.0->tensorboard~=2.4->tensorflow) (2020.12.5)\n",
            "Requirement already satisfied: idna<3,>=2.5 in /usr/local/lib/python3.6/dist-packages (from requests<3,>=2.21.0->tensorboard~=2.4->tensorflow) (2.10)\n",
            "Requirement already satisfied: urllib3!=1.25.0,!=1.25.1,<1.26,>=1.21.1 in /usr/local/lib/python3.6/dist-packages (from requests<3,>=2.21.0->tensorboard~=2.4->tensorflow) (1.24.3)\n",
            "Requirement already satisfied: cachetools<5.0,>=2.0.0 in /usr/local/lib/python3.6/dist-packages (from google-auth<2,>=1.6.3->tensorboard~=2.4->tensorflow) (4.2.0)\n",
            "Requirement already satisfied: rsa<5,>=3.1.4; python_version >= \"3\" in /usr/local/lib/python3.6/dist-packages (from google-auth<2,>=1.6.3->tensorboard~=2.4->tensorflow) (4.6)\n",
            "Requirement already satisfied: pyasn1-modules>=0.2.1 in /usr/local/lib/python3.6/dist-packages (from google-auth<2,>=1.6.3->tensorboard~=2.4->tensorflow) (0.2.8)\n",
            "Requirement already satisfied: requests-oauthlib>=0.7.0 in /usr/local/lib/python3.6/dist-packages (from google-auth-oauthlib<0.5,>=0.4.1->tensorboard~=2.4->tensorflow) (1.3.0)\n",
            "Requirement already satisfied: zipp>=0.5 in /usr/local/lib/python3.6/dist-packages (from importlib-metadata; python_version < \"3.8\"->markdown>=2.6.8->tensorboard~=2.4->tensorflow) (3.4.0)\n",
            "Requirement already satisfied: pyasn1>=0.1.3 in /usr/local/lib/python3.6/dist-packages (from rsa<5,>=3.1.4; python_version >= \"3\"->google-auth<2,>=1.6.3->tensorboard~=2.4->tensorflow) (0.4.8)\n",
            "Requirement already satisfied: oauthlib>=3.0.0 in /usr/local/lib/python3.6/dist-packages (from requests-oauthlib>=0.7.0->google-auth-oauthlib<0.5,>=0.4.1->tensorboard~=2.4->tensorflow) (3.1.0)\n"
          ],
          "name": "stdout"
        }
      ]
    },
    {
      "cell_type": "code",
      "metadata": {
        "id": "Uo0epekbnQKx",
        "colab": {
          "base_uri": "https://localhost:8080/"
        },
        "outputId": "0917583b-7c6e-4130-ce1e-e281e4aa2938"
      },
      "source": [
        "import tensorflow as tf\r\n",
        "print(tf.__version__)"
      ],
      "execution_count": null,
      "outputs": [
        {
          "output_type": "stream",
          "text": [
            "2.4.0\n"
          ],
          "name": "stdout"
        }
      ]
    },
    {
      "cell_type": "code",
      "metadata": {
        "id": "DNLmpM6lkl4z",
        "colab": {
          "base_uri": "https://localhost:8080/"
        },
        "outputId": "ecec9443-bcb8-4f9c-c186-fb72e444051b"
      },
      "source": [
        "!pip install keras"
      ],
      "execution_count": null,
      "outputs": [
        {
          "output_type": "stream",
          "text": [
            "Requirement already satisfied: keras in /usr/local/lib/python3.6/dist-packages (2.4.3)\n",
            "Requirement already satisfied: h5py in /usr/local/lib/python3.6/dist-packages (from keras) (2.10.0)\n",
            "Requirement already satisfied: pyyaml in /usr/local/lib/python3.6/dist-packages (from keras) (3.13)\n",
            "Requirement already satisfied: numpy>=1.9.1 in /usr/local/lib/python3.6/dist-packages (from keras) (1.19.4)\n",
            "Requirement already satisfied: scipy>=0.14 in /usr/local/lib/python3.6/dist-packages (from keras) (1.4.1)\n",
            "Requirement already satisfied: six in /usr/local/lib/python3.6/dist-packages (from h5py->keras) (1.15.0)\n"
          ],
          "name": "stdout"
        }
      ]
    },
    {
      "cell_type": "code",
      "metadata": {
        "id": "MFoRxsVbSFOR"
      },
      "source": [
        "# Import Libraries for Neural Network\r\n",
        "from keras.models import Sequential\r\n",
        "from keras import layers\r\n",
        "from tensorflow.keras.preprocessing.text import Tokenizer\r\n",
        "from tensorflow.keras.preprocessing.sequence import pad_sequences\r\n",
        "from keras.wrappers.scikit_learn import KerasClassifier"
      ],
      "execution_count": null,
      "outputs": []
    },
    {
      "cell_type": "code",
      "metadata": {
        "id": "NFAm0n3pRsP1"
      },
      "source": [
        "# Add model for Neural Network\r\n",
        "input_dim = X_train.shape[1]  # Number of features\r\n",
        "\r\n",
        "model = Sequential()\r\n",
        "model.add(layers.Dense(10, input_dim=input_dim, activation='relu'))\r\n",
        "model.add(layers.Dense(10, activation='relu'))\r\n",
        "model.add(layers.Dense(10, activation='relu'))\r\n",
        "model.add(layers.Dense(1, activation='sigmoid'))"
      ],
      "execution_count": null,
      "outputs": []
    },
    {
      "cell_type": "code",
      "metadata": {
        "id": "sRBLz8NVR5a0",
        "colab": {
          "base_uri": "https://localhost:8080/"
        },
        "outputId": "302e8dbb-7766-41e8-c77c-4138b2d62647"
      },
      "source": [
        "# Compile model\r\n",
        "model.compile(loss='binary_crossentropy', \r\n",
        "              optimizer='adam', \r\n",
        "              metrics=['accuracy'])\r\n",
        "          \r\n",
        "model.summary()"
      ],
      "execution_count": null,
      "outputs": [
        {
          "output_type": "stream",
          "text": [
            "Model: \"sequential_2\"\n",
            "_________________________________________________________________\n",
            "Layer (type)                 Output Shape              Param #   \n",
            "=================================================================\n",
            "dense_8 (Dense)              (None, 10)                70810     \n",
            "_________________________________________________________________\n",
            "dense_9 (Dense)              (None, 10)                110       \n",
            "_________________________________________________________________\n",
            "dense_10 (Dense)             (None, 10)                110       \n",
            "_________________________________________________________________\n",
            "dense_11 (Dense)             (None, 1)                 11        \n",
            "=================================================================\n",
            "Total params: 71,041\n",
            "Trainable params: 71,041\n",
            "Non-trainable params: 0\n",
            "_________________________________________________________________\n"
          ],
          "name": "stdout"
        }
      ]
    },
    {
      "cell_type": "code",
      "metadata": {
        "id": "U_v5lE_5SINR",
        "colab": {
          "base_uri": "https://localhost:8080/"
        },
        "outputId": "dd1b66f7-d7ee-4025-b058-4f2f3b760c0a"
      },
      "source": [
        "# Run Model\r\n",
        "history = model.fit(X_train, y_train,\r\n",
        "                    epochs=10,\r\n",
        "                    verbose=True,\r\n",
        "                    validation_data=(X_test, y_test),\r\n",
        "                    batch_size=10)"
      ],
      "execution_count": null,
      "outputs": [
        {
          "output_type": "stream",
          "text": [
            "Epoch 1/10\n",
            "294/294 [==============================] - 1s 4ms/step - loss: 0.6881 - accuracy: 0.5496 - val_loss: 0.6360 - val_accuracy: 0.6975\n",
            "Epoch 2/10\n",
            "294/294 [==============================] - 1s 3ms/step - loss: 0.5135 - accuracy: 0.8032 - val_loss: 0.5529 - val_accuracy: 0.7384\n",
            "Epoch 3/10\n",
            "294/294 [==============================] - 1s 3ms/step - loss: 0.2387 - accuracy: 0.9209 - val_loss: 0.6177 - val_accuracy: 0.7425\n",
            "Epoch 4/10\n",
            "294/294 [==============================] - 1s 3ms/step - loss: 0.1243 - accuracy: 0.9604 - val_loss: 0.6976 - val_accuracy: 0.7466\n",
            "Epoch 5/10\n",
            "294/294 [==============================] - 1s 3ms/step - loss: 0.0647 - accuracy: 0.9814 - val_loss: 0.7783 - val_accuracy: 0.7520\n",
            "Epoch 6/10\n",
            "294/294 [==============================] - 1s 3ms/step - loss: 0.0434 - accuracy: 0.9855 - val_loss: 0.8878 - val_accuracy: 0.7561\n",
            "Epoch 7/10\n",
            "294/294 [==============================] - 1s 3ms/step - loss: 0.0245 - accuracy: 0.9949 - val_loss: 0.9640 - val_accuracy: 0.7520\n",
            "Epoch 8/10\n",
            "294/294 [==============================] - 1s 3ms/step - loss: 0.0296 - accuracy: 0.9912 - val_loss: 1.0142 - val_accuracy: 0.7589\n",
            "Epoch 9/10\n",
            "294/294 [==============================] - 1s 3ms/step - loss: 0.0240 - accuracy: 0.9912 - val_loss: 1.0637 - val_accuracy: 0.7616\n",
            "Epoch 10/10\n",
            "294/294 [==============================] - 1s 3ms/step - loss: 0.0134 - accuracy: 0.9969 - val_loss: 1.1470 - val_accuracy: 0.7548\n"
          ],
          "name": "stdout"
        }
      ]
    },
    {
      "cell_type": "code",
      "metadata": {
        "id": "_m6XYqjnSbSf",
        "colab": {
          "base_uri": "https://localhost:8080/"
        },
        "outputId": "f7a66241-8759-4a04-e48d-b8551aff0dfb"
      },
      "source": [
        "# Check the Accuracy\r\n",
        "loss, accuracy = model.evaluate(X_train, y_train, verbose=False)\r\n",
        "print(\"Training Accuracy: {:.4f}\".format(accuracy))\r\n",
        "loss, accuracy = model.evaluate(X_test, y_test, verbose=False)\r\n",
        "print(\"Testing Accuracy:  {:.4f}\".format(accuracy))"
      ],
      "execution_count": null,
      "outputs": [
        {
          "output_type": "stream",
          "text": [
            "Training Accuracy: 0.9959\n",
            "Testing Accuracy:  0.7548\n"
          ],
          "name": "stdout"
        }
      ]
    },
    {
      "cell_type": "code",
      "metadata": {
        "id": "prL-KRuEScC-"
      },
      "source": [
        "# Plot accuracy\r\n",
        "plt.style.use('ggplot')\r\n",
        "\r\n",
        "def plot_history(history):\r\n",
        "    acc = history.history['accuracy']\r\n",
        "    val_acc = history.history['val_accuracy']\r\n",
        "    loss = history.history['loss']\r\n",
        "    val_loss = history.history['val_loss']\r\n",
        "    x = range(1, len(acc) + 1)\r\n",
        "\r\n",
        "    plt.figure(figsize=(12, 5))\r\n",
        "    plt.subplot(1, 2, 1)\r\n",
        "    plt.plot(x, acc, 'b', label='Training acc')\r\n",
        "    plt.plot(x, val_acc, 'r', label='Validation acc')\r\n",
        "    plt.title('Training and validation accuracy')\r\n",
        "    plt.legend()\r\n",
        "    plt.subplot(1, 2, 2)\r\n",
        "    plt.plot(x, loss, 'b', label='Training loss')\r\n",
        "    plt.plot(x, val_loss, 'r', label='Validation loss')\r\n",
        "    plt.title('Training and validation loss')\r\n",
        "    plt.legend()"
      ],
      "execution_count": null,
      "outputs": []
    },
    {
      "cell_type": "code",
      "metadata": {
        "id": "DxftpgUNSn5U",
        "colab": {
          "base_uri": "https://localhost:8080/",
          "height": 337
        },
        "outputId": "b3031c6b-4563-43fa-a0d8-b3d21c1a07e8"
      },
      "source": [
        "plot_history(history)"
      ],
      "execution_count": null,
      "outputs": [
        {
          "output_type": "display_data",
          "data": {
            "image/png": "[encoded data removed]",
            "text/plain": [
              "<Figure size 864x360 with 2 Axes>"
            ]
          },
          "metadata": {
            "tags": []
          }
        }
      ]
    },
    {
      "cell_type": "code",
      "metadata": {
        "id": "Or-NtGrPekk2",
        "colab": {
          "base_uri": "https://localhost:8080/",
          "height": 466
        },
        "outputId": "7e0fa1da-ec0c-4ecf-b978-0abdd5ede67a"
      },
      "source": [
        "# Save Model Layer\r\n",
        "from tensorflow.keras.utils import plot_model\r\n",
        "plot_model(model)"
      ],
      "execution_count": null,
      "outputs": [
        {
          "output_type": "execute_result",
          "data": {
            "image/png": "[encoded data removed]",
            "text/plain": [
              "<IPython.core.display.Image object>"
            ]
          },
          "metadata": {
            "tags": []
          },
          "execution_count": 131
        }
      ]
    },
    {
      "cell_type": "code",
      "metadata": {
        "id": "c-feWdvqePkV",
        "colab": {
          "base_uri": "https://localhost:8080/"
        },
        "outputId": "052be3b4-e8b0-43ce-a4a8-6e411f6ea8fa"
      },
      "source": [
        "# Save Model\r\n",
        "model.save('model', save_format=\"tf\")"
      ],
      "execution_count": 89,
      "outputs": [
        {
          "output_type": "stream",
          "text": [
            "INFO:tensorflow:Assets written to: model/assets\n"
          ],
          "name": "stdout"
        }
      ]
    },
    {
      "cell_type": "markdown",
      "metadata": {
        "id": "JsTTNDC7-wvZ"
      },
      "source": [
        "## **Model Comparison**"
      ]
    },
    {
      "cell_type": "code",
      "metadata": {
        "id": "sAOfd2Cz-zWj",
        "colab": {
          "base_uri": "https://localhost:8080/",
          "height": 136
        },
        "outputId": "8d276273-3c77-477b-91e4-56f10877bb97"
      },
      "source": [
        "# Accuracy Comparison\r\n",
        "models = ['SVM', 'MLP', 'NN']\r\n",
        "accuracies = [accSVMC, accMLPC, accuracy]\r\n",
        "comp = pd.DataFrame(list(zip(models, accuracies)), columns=['Model', 'Accuracy'])\r\n",
        "comp"
      ],
      "execution_count": null,
      "outputs": [
        {
          "output_type": "execute_result",
          "data": {
            "text/html": [
              "<div>\n",
              "<style scoped>\n",
              "    .dataframe tbody tr th:only-of-type {\n",
              "        vertical-align: middle;\n",
              "    }\n",
              "\n",
              "    .dataframe tbody tr th {\n",
              "        vertical-align: top;\n",
              "    }\n",
              "\n",
              "    .dataframe thead th {\n",
              "        text-align: right;\n",
              "    }\n",
              "</style>\n",
              "<table border=\"1\" class=\"dataframe\">\n",
              "  <thead>\n",
              "    <tr style=\"text-align: right;\">\n",
              "      <th></th>\n",
              "      <th>Model</th>\n",
              "      <th>Accuracy</th>\n",
              "    </tr>\n",
              "  </thead>\n",
              "  <tbody>\n",
              "    <tr>\n",
              "      <th>0</th>\n",
              "      <td>SVM</td>\n",
              "      <td>0.716621</td>\n",
              "    </tr>\n",
              "    <tr>\n",
              "      <th>1</th>\n",
              "      <td>MLP</td>\n",
              "      <td>0.478202</td>\n",
              "    </tr>\n",
              "    <tr>\n",
              "      <th>2</th>\n",
              "      <td>NN</td>\n",
              "      <td>0.754768</td>\n",
              "    </tr>\n",
              "  </tbody>\n",
              "</table>\n",
              "</div>"
            ],
            "text/plain": [
              "  Model  Accuracy\n",
              "0   SVM  0.716621\n",
              "1   MLP  0.478202\n",
              "2    NN  0.754768"
            ]
          },
          "metadata": {
            "tags": []
          },
          "execution_count": 133
        }
      ]
    },
    {
      "cell_type": "markdown",
      "metadata": {
        "id": "UGM71TqPDN62"
      },
      "source": [
        "Conclusion : From 3 models above, Neural Network has the biggest accuracy."
      ]
    },
    {
      "cell_type": "markdown",
      "metadata": {
        "id": "PtHb-ycjdSbr"
      },
      "source": [
        "# **Predict**"
      ]
    },
    {
      "cell_type": "code",
      "metadata": {
        "cellView": "form",
        "id": "mJ3IoF-CRALL"
      },
      "source": [
        "#@title Input Kalimat\r\n",
        "#@markdown Kalimat diawali dan diakhiri tanda kutip (\" \")\r\n",
        "\r\n",
        "kalimat=\"Auamat kesel bgt hari ini nonton tv isinya pilkada!!!  Stress bgt hampir setaun ini kuliah/sekolah online, eh pilkada ttp jalan tetap menaati protokol kesehatan Berak sekebon!!!! Cebok segayung\"   #@param\r\n",
        "#@markdown ---"
      ],
      "execution_count": null,
      "outputs": []
    },
    {
      "cell_type": "code",
      "metadata": {
        "id": "1ZmV3dmbU6T1",
        "colab": {
          "base_uri": "https://localhost:8080/",
          "height": 77
        },
        "outputId": "fbcbafec-cd6c-4459-9dcb-e29b56e4a0e6"
      },
      "source": [
        "ls=[]\r\n",
        "ls.append(kalimat)\r\n",
        "df = pd.DataFrame(ls, columns=['text'])\r\n",
        "df"
      ],
      "execution_count": null,
      "outputs": [
        {
          "output_type": "execute_result",
          "data": {
            "text/html": [
              "<div>\n",
              "<style scoped>\n",
              "    .dataframe tbody tr th:only-of-type {\n",
              "        vertical-align: middle;\n",
              "    }\n",
              "\n",
              "    .dataframe tbody tr th {\n",
              "        vertical-align: top;\n",
              "    }\n",
              "\n",
              "    .dataframe thead th {\n",
              "        text-align: right;\n",
              "    }\n",
              "</style>\n",
              "<table border=\"1\" class=\"dataframe\">\n",
              "  <thead>\n",
              "    <tr style=\"text-align: right;\">\n",
              "      <th></th>\n",
              "      <th>text</th>\n",
              "    </tr>\n",
              "  </thead>\n",
              "  <tbody>\n",
              "    <tr>\n",
              "      <th>0</th>\n",
              "      <td>Auamat kesel bgt hari ini nonton tv isinya pil...</td>\n",
              "    </tr>\n",
              "  </tbody>\n",
              "</table>\n",
              "</div>"
            ],
            "text/plain": [
              "                                                text\n",
              "0  Auamat kesel bgt hari ini nonton tv isinya pil..."
            ]
          },
          "metadata": {
            "tags": []
          },
          "execution_count": 135
        }
      ]
    },
    {
      "cell_type": "code",
      "metadata": {
        "id": "WhdtvDDdUFSa",
        "colab": {
          "base_uri": "https://localhost:8080/",
          "height": 77
        },
        "outputId": "108a8c8c-4a6c-4e35-bfc4-ac3b97f6a122"
      },
      "source": [
        "df['text'] = clean(df['text'])\r\n",
        "df"
      ],
      "execution_count": null,
      "outputs": [
        {
          "output_type": "execute_result",
          "data": {
            "text/html": [
              "<div>\n",
              "<style scoped>\n",
              "    .dataframe tbody tr th:only-of-type {\n",
              "        vertical-align: middle;\n",
              "    }\n",
              "\n",
              "    .dataframe tbody tr th {\n",
              "        vertical-align: top;\n",
              "    }\n",
              "\n",
              "    .dataframe thead th {\n",
              "        text-align: right;\n",
              "    }\n",
              "</style>\n",
              "<table border=\"1\" class=\"dataframe\">\n",
              "  <thead>\n",
              "    <tr style=\"text-align: right;\">\n",
              "      <th></th>\n",
              "      <th>text</th>\n",
              "    </tr>\n",
              "  </thead>\n",
              "  <tbody>\n",
              "    <tr>\n",
              "      <th>0</th>\n",
              "      <td>auamat kesel bgt hari ini nonton tv isinya pil...</td>\n",
              "    </tr>\n",
              "  </tbody>\n",
              "</table>\n",
              "</div>"
            ],
            "text/plain": [
              "                                                text\n",
              "0  auamat kesel bgt hari ini nonton tv isinya pil..."
            ]
          },
          "metadata": {
            "tags": []
          },
          "execution_count": 136
        }
      ]
    },
    {
      "cell_type": "code",
      "metadata": {
        "id": "nG3rdYYjY40o",
        "colab": {
          "base_uri": "https://localhost:8080/",
          "height": 77
        },
        "outputId": "e33d5336-3356-4745-d0d8-7b189fdb0c83"
      },
      "source": [
        "df['text'] = token(df['text'])\r\n",
        "df['text'] = stop_words(df['text'])\r\n",
        "df"
      ],
      "execution_count": null,
      "outputs": [
        {
          "output_type": "execute_result",
          "data": {
            "text/html": [
              "<div>\n",
              "<style scoped>\n",
              "    .dataframe tbody tr th:only-of-type {\n",
              "        vertical-align: middle;\n",
              "    }\n",
              "\n",
              "    .dataframe tbody tr th {\n",
              "        vertical-align: top;\n",
              "    }\n",
              "\n",
              "    .dataframe thead th {\n",
              "        text-align: right;\n",
              "    }\n",
              "</style>\n",
              "<table border=\"1\" class=\"dataframe\">\n",
              "  <thead>\n",
              "    <tr style=\"text-align: right;\">\n",
              "      <th></th>\n",
              "      <th>text</th>\n",
              "    </tr>\n",
              "  </thead>\n",
              "  <tbody>\n",
              "    <tr>\n",
              "      <th>0</th>\n",
              "      <td>[auamat, kesel, bgt, nonton, tv, isinya, pilka...</td>\n",
              "    </tr>\n",
              "  </tbody>\n",
              "</table>\n",
              "</div>"
            ],
            "text/plain": [
              "                                                text\n",
              "0  [auamat, kesel, bgt, nonton, tv, isinya, pilka..."
            ]
          },
          "metadata": {
            "tags": []
          },
          "execution_count": 137
        }
      ]
    },
    {
      "cell_type": "code",
      "metadata": {
        "id": "iXnsXVqUZloa",
        "colab": {
          "base_uri": "https://localhost:8080/",
          "height": 77
        },
        "outputId": "9835f795-0c52-4e39-e23a-87887f43dfef"
      },
      "source": [
        "df['text'] = df['text'].apply(lambda x: \" \".join(x) if isinstance(x, list) else x)\r\n",
        "df.head()"
      ],
      "execution_count": null,
      "outputs": [
        {
          "output_type": "execute_result",
          "data": {
            "text/html": [
              "<div>\n",
              "<style scoped>\n",
              "    .dataframe tbody tr th:only-of-type {\n",
              "        vertical-align: middle;\n",
              "    }\n",
              "\n",
              "    .dataframe tbody tr th {\n",
              "        vertical-align: top;\n",
              "    }\n",
              "\n",
              "    .dataframe thead th {\n",
              "        text-align: right;\n",
              "    }\n",
              "</style>\n",
              "<table border=\"1\" class=\"dataframe\">\n",
              "  <thead>\n",
              "    <tr style=\"text-align: right;\">\n",
              "      <th></th>\n",
              "      <th>text</th>\n",
              "    </tr>\n",
              "  </thead>\n",
              "  <tbody>\n",
              "    <tr>\n",
              "      <th>0</th>\n",
              "      <td>auamat kesel bgt nonton tv isinya pilkada stre...</td>\n",
              "    </tr>\n",
              "  </tbody>\n",
              "</table>\n",
              "</div>"
            ],
            "text/plain": [
              "                                                text\n",
              "0  auamat kesel bgt nonton tv isinya pilkada stre..."
            ]
          },
          "metadata": {
            "tags": []
          },
          "execution_count": 138
        }
      ]
    },
    {
      "cell_type": "code",
      "metadata": {
        "id": "AmJzFYt5UY9O",
        "colab": {
          "base_uri": "https://localhost:8080/",
          "height": 77
        },
        "outputId": "0f749d97-3303-4820-c0b6-a2cfba04ace2"
      },
      "source": [
        "df['text'] = df.apply(lambda row : stem(row['text']), axis = 1)\r\n",
        "df"
      ],
      "execution_count": null,
      "outputs": [
        {
          "output_type": "execute_result",
          "data": {
            "text/html": [
              "<div>\n",
              "<style scoped>\n",
              "    .dataframe tbody tr th:only-of-type {\n",
              "        vertical-align: middle;\n",
              "    }\n",
              "\n",
              "    .dataframe tbody tr th {\n",
              "        vertical-align: top;\n",
              "    }\n",
              "\n",
              "    .dataframe thead th {\n",
              "        text-align: right;\n",
              "    }\n",
              "</style>\n",
              "<table border=\"1\" class=\"dataframe\">\n",
              "  <thead>\n",
              "    <tr style=\"text-align: right;\">\n",
              "      <th></th>\n",
              "      <th>text</th>\n",
              "    </tr>\n",
              "  </thead>\n",
              "  <tbody>\n",
              "    <tr>\n",
              "      <th>0</th>\n",
              "      <td>auamat kesel bgt nonton tv isi pilkada stress ...</td>\n",
              "    </tr>\n",
              "  </tbody>\n",
              "</table>\n",
              "</div>"
            ],
            "text/plain": [
              "                                                text\n",
              "0  auamat kesel bgt nonton tv isi pilkada stress ..."
            ]
          },
          "metadata": {
            "tags": []
          },
          "execution_count": 139
        }
      ]
    },
    {
      "cell_type": "code",
      "metadata": {
        "id": "n5zdkk9Oq5Wc"
      },
      "source": [
        "tqdm.pandas()"
      ],
      "execution_count": null,
      "outputs": []
    },
    {
      "cell_type": "code",
      "metadata": {
        "id": "FZUjDKEvZKf6",
        "colab": {
          "base_uri": "https://localhost:8080/",
          "height": 94
        },
        "outputId": "08f7ef66-cd97-4226-f4a3-c31a688a93d0"
      },
      "source": [
        "df['text'] = df.text.progress_apply(lambda x: clean_all(x, dict_clean=dict_clean))\r\n",
        "df"
      ],
      "execution_count": null,
      "outputs": [
        {
          "output_type": "stream",
          "text": [
            "100%|██████████| 1/1 [00:00<00:00, 98.10it/s]\n"
          ],
          "name": "stderr"
        },
        {
          "output_type": "execute_result",
          "data": {
            "text/html": [
              "<div>\n",
              "<style scoped>\n",
              "    .dataframe tbody tr th:only-of-type {\n",
              "        vertical-align: middle;\n",
              "    }\n",
              "\n",
              "    .dataframe tbody tr th {\n",
              "        vertical-align: top;\n",
              "    }\n",
              "\n",
              "    .dataframe thead th {\n",
              "        text-align: right;\n",
              "    }\n",
              "</style>\n",
              "<table border=\"1\" class=\"dataframe\">\n",
              "  <thead>\n",
              "    <tr style=\"text-align: right;\">\n",
              "      <th></th>\n",
              "      <th>text</th>\n",
              "    </tr>\n",
              "  </thead>\n",
              "  <tbody>\n",
              "    <tr>\n",
              "      <th>0</th>\n",
              "      <td>auamat kesel banget nonton televisi ikatan sek...</td>\n",
              "    </tr>\n",
              "  </tbody>\n",
              "</table>\n",
              "</div>"
            ],
            "text/plain": [
              "                                                text\n",
              "0  auamat kesel banget nonton televisi ikatan sek..."
            ]
          },
          "metadata": {
            "tags": []
          },
          "execution_count": 141
        }
      ]
    },
    {
      "cell_type": "code",
      "metadata": {
        "id": "xsZ2rqb364ZZ",
        "colab": {
          "base_uri": "https://localhost:8080/"
        },
        "outputId": "92cb628a-38ab-486e-c82d-5f3ada9908e4"
      },
      "source": [
        "clean_sentence = tfidf_vectorizer.transform(df['text'])\r\n",
        "clean_sentence.shape"
      ],
      "execution_count": null,
      "outputs": [
        {
          "output_type": "execute_result",
          "data": {
            "text/plain": [
              "(1, 7080)"
            ]
          },
          "metadata": {
            "tags": []
          },
          "execution_count": 142
        }
      ]
    },
    {
      "cell_type": "code",
      "metadata": {
        "id": "Ubsx2PX_abwR",
        "colab": {
          "base_uri": "https://localhost:8080/"
        },
        "outputId": "6c29de96-b2ec-4f55-e081-1e4a3e5f608a"
      },
      "source": [
        "tst = model.predict(clean_sentence.toarray())\r\n",
        "print(\"probability : \", float(tst))\r\n",
        "# kel = model.predict_classes(clean_sentence.toarray())\r\n",
        "label_pred = 'Setuju' if np.round(tst[0]) else 'Tidak Setuju'\r\n",
        "print('predicted =',label_pred)"
      ],
      "execution_count": null,
      "outputs": [
        {
          "output_type": "stream",
          "text": [
            "probability :  0.37454572319984436\n",
            "predicted = Tidak Setuju\n"
          ],
          "name": "stdout"
        }
      ]
    },
    {
      "cell_type": "code",
      "metadata": {
        "id": "5HS5ABxQ90LN"
      },
      "source": [
        ""
      ],
      "execution_count": null,
      "outputs": []
    }
  ]
}